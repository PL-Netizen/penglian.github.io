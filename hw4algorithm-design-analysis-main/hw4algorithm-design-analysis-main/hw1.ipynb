{
 "cells": [
  {
   "cell_type": "markdown",
   "metadata": {},
   "source": [
    "## algorithm design and anlysis-2025 spring  homework 1 \n",
    "**Deadline**：2025.5.14\n",
    "\n",
    "**name**:\n",
    "\n",
    "\n",
    "note：\n",
    "---\n",
    "1. 带有\\*的题目，申请免上课的同学，必须完成，其他同学选作；\n",
    "2. 请独立完成，如求助了他人或者大模型，请著明，并且不可省略算法分析部分；\n",
    "4. 如若作答有雷同，全部取消成绩；\n",
    "3. 需要书面作答的题目，可以通过引用图片的形式添加，但是注意上传项目时包含所引用的图片的源文件；\n",
    "4. $log_n$ 默认表示$log_2{n}$;"
   ]
  },
  {
   "cell_type": "markdown",
   "metadata": {},
   "source": [
    "## 问题 1\n",
    "\n",
    "对于下面的每一对表达式(A, B), A是否能表示为B的 $\\Theta, \\Omega ,O$形式. 请注意, 这些关系中的零个、一个或多个可能成立。列出所有正确的。经常发生一些学生会,把指示写错, 所以请把关系写完整, 例如: $A = O(B),  A =\\Theta(B)$, 或$A = \\Omega(B)$。\n",
    "\n",
    "1. $A=n^2-100n, B=n^2$\n",
    "2. $A=logn, B=log_{1.2}n$\n",
    "3. $A=3^{2n}, B=2^{4n}$\n",
    "4. $A=2^{logn}, B=n$\n",
    "5. $A=\\log{\\log}{n},B=10^{10^{100}}$"
   ]
  },
  {
   "cell_type": "markdown",
   "metadata": {},
   "source": [
    "an refer a handwritten picture, pleas upload the picture in /fig/xxx.png\n",
    "\n",
    "answer:\n",
    "\n",
    "The answer is in /fig/pl_hw1q1.png"
   ]
  },
  {
   "metadata": {},
   "cell_type": "markdown",
   "source": "![img](./fig/pl_hw1q1.png)"
  },
  {
   "cell_type": "markdown",
   "metadata": {},
   "source": [
    "## 问题 2：\n",
    "\n",
    "假设有函数 $f$ 和 $g$ 使得 $f(n)$ = $O(g(n))$ 对于下面的每一个陈述, 请判断对错, 如果正确请给出证明, 否则请给出一个反例。\n",
    "\n",
    "1. $\\log{f(n)}$ = $O(\\log(1+g(n)))$\n",
    "2. $3^{f(n)}=O(3^{g(n)})$\n",
    "3. $(f(n))^2=O((g(n))^2)$ "
   ]
  },
  {
   "cell_type": "markdown",
   "metadata": {},
   "source": [
    "you can refer a handwritten picture, pleas upload the picture in /fig/xxx.png\n",
    "\n",
    "answer:\n",
    "\n",
    "The answer is in /fig/pl_hw1q2.png"
   ]
  },
  {
   "metadata": {},
   "cell_type": "markdown",
   "source": "![img](./fig/pl_hw1q2.png)"
  },
  {
   "cell_type": "markdown",
   "metadata": {},
   "source": [
    "## 问题 3\n",
    "\n",
    "根据下列递归公式, 计算下列 $T(n)$ 对应的的渐近上界。要求所求的边界尽可能的紧（tight）, 请写明步骤。\n",
    "\n",
    "1. $T(1)=1; T(n)=T(n/4)+1$ for $n>1$\n",
    "2. $T(1)=1;T(n)=3T(n/3)+n^2$ for $n>1$\n",
    "3. $T(1)=1;T(n)=T(2n/3)+1$ for $n>1$\n",
    "4. $T(1)=1;T(n)=5T(n/4)+n$ for $n>1$\n",
    "5. $T(n)=1 \\ for\\ n \\le 2 ; T(n)=T(\\sqrt{n})+1 \\ for \\ n>2$"
   ]
  },
  {
   "cell_type": "markdown",
   "metadata": {},
   "source": [
    "can refer a handwritten picture, pleas upload the picture in /fig/xxx.png\n",
    "\n",
    "answer:\n",
    "\n",
    "The answer is in /fig/pl_hw1q3.png and /fig/pl_hw1q3_1.png"
   ]
  },
  {
   "metadata": {},
   "cell_type": "markdown",
   "source": [
    "![img](./fig/pl_hw1q3.png)\n",
    "![img](./fig/pl_hw1q3_1.png)"
   ]
  },
  {
   "cell_type": "markdown",
   "metadata": {},
   "source": [
    "## 问题 4：\n",
    "\n",
    "给定一个包含n个元素的数组 `profits` , 它的第 `i` 个元素 `profits[i]` 表示一支股票第 `i` 天的**收益**（正数表示涨, 负数表示跌）。你只能选择 **某一天** 买入这只股票, 并选择在 **未来的某一个不同的日子** 卖出该股票。\n",
    "\n",
    "1. 设计一个算法来计算你所能获取的最大利润和对应买入和卖出的日期。请分析算法方案, 计算其时间复杂度, 并且使用python编程实现该算法。\n",
    "\n",
    "2. \\* 设计一个时间复杂度为 $O(n)$的算法实现该算法\n",
    "\n",
    "e.g. :\n",
    "---\n",
    "profits=[3,2,1,-7,5,2,-1,3,-1], 第5天买入, 第8天卖出, 收益最大：9"
   ]
  },
  {
   "metadata": {},
   "cell_type": "markdown",
   "source": [
    "idea:\n",
    "\n",
    "答：①算法方案分析：\n",
    "\n",
    "需要找到2个日期,使得后一个日期减去前一个日期的profits最大，并且返回这个最大值。先假设最小价格为第1天的价格，最大利润为前两天之间的利润。从第2天开始，遍历每一天，计算如果以当天价格卖出，能否获得更大利润。如果当前利润大于之前记录的最大利润，更新最大利润，并记录这天为售出时间。如果当前价格低于之前按记录的最小价格，更新买入价格和买入时间，最后返回最大利润，以及买入、卖出日。\n",
    "\n",
    "②时间复杂度分析：只需要一次遍历，所以时间复杂度为O(n)."
   ]
  },
  {
   "metadata": {
    "ExecuteTime": {
     "end_time": "2025-05-13T05:24:35.752340Z",
     "start_time": "2025-05-13T05:24:35.737093Z"
    }
   },
   "cell_type": "code",
   "source": [
    "def f(p):\n",
    "    mi = p[0]  # 表示最小价格\n",
    "    ma = p[1] - p[0]  # 表示最大利润\n",
    "    b = 0  # 买入日\n",
    "    s = 1  # 出售日\n",
    "    i = 1\n",
    "    while i < len(p):\n",
    "        cur = p[i]  # 当前价格\n",
    "        prof = cur - mi  # 当前利润\n",
    "        if prof > ma:\n",
    "            ma = prof  # 更新最大利润\n",
    "            s = i  # 更新出售日\n",
    "        if cur < mi:\n",
    "            mi = cur  # 更新最小价格\n",
    "            b = i  # 更新买入日\n",
    "        i += 1\n",
    "    return ma, b + 1, s + 1  # 返回最大利润、买入日、出售日\n",
    "\n",
    "p = [3, 2, 1, -7, 5, 2, -1, 3, -1]\n",
    "r = f(p)\n",
    "print(\"最大利润:\", r[0])\n",
    "print(\"买入日:\", r[1])\n",
    "print(\"出售日:\", r[2])"
   ],
   "outputs": [
    {
     "name": "stdout",
     "output_type": "stream",
     "text": [
      "最大利润: 12\n",
      "买入日: 4\n",
      "出售日: 5\n"
     ]
    }
   ],
   "execution_count": 6
  },
  {
   "cell_type": "code",
   "execution_count": null,
   "metadata": {},
   "outputs": [],
   "source": [
    "# an algorithm with O(n)"
   ]
  },
  {
   "cell_type": "markdown",
   "metadata": {},
   "source": [
    "## 问题 5：\n",
    "\n",
    "观察下方的分治算法（divide-and-conquer algorithm）的伪代码, 回答下面问题\n",
    "\n",
    "```latex\n",
    "DoSomething(A,p,r)\n",
    "-----\n",
    "n := r-p+1\n",
    "if n=2 and A[p]>A[r] then\n",
    "    swap A[p] and A[r]\n",
    "else if n >= 3 then\n",
    "    m = ceil(2n/3)\n",
    "    DoSomething(A,p,p+m-1)\n",
    "    DoSomething(A,r-m+1,r)\n",
    "    DoSomething(A,p,p+m-1)  \n",
    "    \n",
    "---\n",
    "first call: DoSomething(A,1,n)\n",
    "```\n",
    "\n",
    "note：$ceil(2n/3)=\\left\\lceil {2n/3} \\right\\rceil$；$:=$ 表示赋值, 等价于 $\\to$；A是一个包含n的整数元素的数组, \n",
    "\n",
    "1. 写出该算法时间复杂度的递归公式, 并求解其对应的渐进表示\n",
    "2. 描述一下该算法的功能, 并判断是否是最高效的解决方案\n",
    "3. 使用python编程实现上述算法或其对应的更高效版本的算法\n"
   ]
  },
  {
   "cell_type": "markdown",
   "metadata": {},
   "source": [
    "idea：\n",
    "\n",
    "The idea is in /fig/pl_hw1q5.png and /fig/pl_hw1q5_1.png"
   ]
  },
  {
   "metadata": {},
   "cell_type": "markdown",
   "source": [
    "![img](./fig/pl_hw1q5.png)\n",
    "\n",
    "![img](./fig/pl_hw1q5_1.png)"
   ]
  },
  {
   "cell_type": "markdown",
   "metadata": {},
   "source": [
    "answer:\n",
    "如上所述。"
   ]
  },
  {
   "metadata": {
    "ExecuteTime": {
     "end_time": "2025-05-13T05:24:49.572299Z",
     "start_time": "2025-05-13T05:24:49.544Z"
    }
   },
   "cell_type": "code",
   "source": [
    "# add your code here\n",
    "# The original algorithm：\n",
    "def S(a, l, r):\n",
    "    n = r - l + 1  # 计算子数组的长度\n",
    "    if n == 2:\n",
    "        # 对于长度为2的子数组，若左元素大于右元素则交换\n",
    "        if a[l - 1] > a[r - 1]:\n",
    "            t = a[l - 1]\n",
    "            a[l - 1] = a[r - 1]\n",
    "            a[r - 1] = t\n",
    "    elif n >= 3:\n",
    "        # 对于长度大于等于3的子数组，计算分割点m\n",
    "        m = (2 * n + 2) // 3\n",
    "        S(a, l, l + m - 1)  # 递归处理左部分\n",
    "        S(a, r - m + 1, r)  # 递归处理右部分\n",
    "        S(a, l, l + m - 1)  # 递归处理左部分\n",
    "\n",
    "A = [5, 3, 8, 4, 2, 7, 1, 6]\n",
    "S(A, 1, len(A))\n",
    "print(A)\n",
    "# your algorithm time complexity is :O(n^2.71)"
   ],
   "outputs": [
    {
     "name": "stdout",
     "output_type": "stream",
     "text": [
      "[1, 2, 3, 4, 5, 6, 7, 8]\n"
     ]
    }
   ],
   "execution_count": 7
  },
  {
   "cell_type": "code",
   "metadata": {
    "ExecuteTime": {
     "end_time": "2025-05-13T05:25:06.214457Z",
     "start_time": "2025-05-13T05:25:06.199097Z"
    }
   },
   "source": [
    "# add your code here\n",
    "# The merge sort algorithm：\n",
    "def M(l):\n",
    "    # 如果列表长度小于等于1，则返回该列表\n",
    "    if len(l) <= 1:\n",
    "        return l\n",
    "    # 计算列表的中间位置\n",
    "    m = len(l) // 2\n",
    "    # 递归地分别处理左右两部分\n",
    "    a = M(l[:m])\n",
    "    b = M(l[m:])\n",
    "    # 合并已排序的左右两部分\n",
    "    return G(a, b)\n",
    "\n",
    "def G(x, y):\n",
    "    r = []  # 用于存放合并后的结果\n",
    "    i = 0  # 左部分的索引\n",
    "    j = 0  # 右部分的索引\n",
    "    # 合并两个已排序的列表\n",
    "    while i < len(x) and j < len(y):\n",
    "        if x[i] < y[j]:\n",
    "            r.append(x[i])\n",
    "            i += 1\n",
    "        else:\n",
    "            r.append(y[j])\n",
    "            j += 1\n",
    "    # 将剩余部分添加到结果中\n",
    "    while i < len(x):\n",
    "        r.append(x[i])\n",
    "        i += 1\n",
    "    while j < len(y):\n",
    "        r.append(y[j])\n",
    "        j += 1\n",
    "    return r\n",
    "\n",
    "A = [5, 3, 8, 4, 2, 7, 1, 6]\n",
    "sA = M(A)\n",
    "print(sA)\n",
    "# your algorithm time complexity is :O(nlogn)"
   ],
   "outputs": [
    {
     "name": "stdout",
     "output_type": "stream",
     "text": [
      "[1, 2, 3, 4, 5, 6, 7, 8]\n"
     ]
    }
   ],
   "execution_count": 9
  },
  {
   "cell_type": "markdown",
   "metadata": {},
   "source": [
    "## 问题 6：\n",
    "\n",
    "给定一个大小为 `n` 的数组 `nums` , 返回其中的多数元素。多数元素是指在数组中出现次数 **大于** `⌊ n/2 ⌋` 的元素。\n",
    "\n",
    "你可以假设数组是非空的, 并且给定的数组总是存在多数元素。\n",
    "\n",
    "1. 设计一个算法找到给定数组的多数元素, 分析算法设计思路, 计算算法时间复杂度, 使用python编程实现\n",
    "2. \\* 设计时间复杂度为 O(n)、空间复杂度为 O(1) 的算法解决此问题, 分析算法设计思路, 使用python编程实现\n",
    "\n",
    "e.g.:\n",
    "---\n",
    "1. nums=[3,2,3], 返回3\n",
    "2. nums=[2,2,1,1,1,2,2], 返回2\n"
   ]
  },
  {
   "cell_type": "markdown",
   "metadata": {},
   "source": [
    "idea：\n",
    "\n",
    "答：①算法设计思路：\n",
    "\n",
    "设置一个字典用来统计每个数字的出现次数，一个变量记录列表长度。然后遍历给定数组，为每个数字计数。最后再次遍历字典，找出出现次数超过一半的元素。\n",
    "\n",
    "②时间复杂度分析：总共遍历两次数组，每次的时间复杂度为O(n)，总的时间复杂度为O(n)。"
   ]
  },
  {
   "cell_type": "code",
   "metadata": {
    "ExecuteTime": {
     "end_time": "2025-05-13T05:26:05.155399Z",
     "start_time": "2025-05-13T05:26:05.139776Z"
    }
   },
   "source": [
    "# add your code here\n",
    "def f(n):\n",
    "    t = {}  # 用于存储每个元素出现的次数\n",
    "    l = len(n)  \n",
    "    for x in n:\n",
    "        if x in t:\n",
    "            t[x] += 1  # 如果元素已在字典中，增加计数\n",
    "        else:\n",
    "            t[x] = 1  # 否则，将该元素加入字典并初始化计数为1\n",
    "    for k in t:\n",
    "        if t[k] > l // 2:\n",
    "            return k  \n",
    "\n",
    "nums1 = [3, 2, 3]\n",
    "print(f(nums1))  \n",
    "nums2=[2,2,1,1,1,2,2]\n",
    "print(f(nums2)) \n",
    "# your algorithm time complexity is :O(n)"
   ],
   "outputs": [
    {
     "name": "stdout",
     "output_type": "stream",
     "text": [
      "3\n",
      "2\n"
     ]
    }
   ],
   "execution_count": 12
  },
  {
   "cell_type": "markdown",
   "metadata": {},
   "source": [
    "idea for 2\\*："
   ]
  },
  {
   "cell_type": "code",
   "execution_count": null,
   "metadata": {},
   "outputs": [],
   "source": [
    "# algorithm time complexity：O(n), space complexity:O(1)\n",
    "# add your code here"
   ]
  },
  {
   "cell_type": "markdown",
   "metadata": {},
   "source": [
    "## 问题 7：\n",
    "\n",
    "给定一个包含不同整数元素的数组 $ A[1..n]$ ,并且满足条件：$A[1]>A[2]$ 并且 $A[n-1]<A[n]$; 规定：如果一个元素比它两边的邻居元素都小, 即：$A[x]<A[x-1], A[x]<A[x+1]$ , 称这个元素A[x]为“局部最小”。通过遍历一次数组, 我们可以很容易在 $O(n)$的时间复杂度下找到一个局部最小值, \n",
    "\n",
    "\n",
    "1. 分析该问题, 设计一个算法在$O(logn)$的时间复杂度下找到一个局部最小(返回数值), 要求：分析算法设计思路, 并且使用python编程实现\n",
    "2. \\* 设计算法找出所有局部最小值, 分析算法设计思路, 并使用python编程实现\n",
    "\n",
    "e.g.:\n",
    "---\n",
    "A=[9, 3, 7, 2, 1, 4, 5 ] 时,  局部最小元素为 3, 1\n"
   ]
  },
  {
   "cell_type": "markdown",
   "metadata": {},
   "source": [
    "idea：\n",
    "\n",
    "答：\n",
    "\n",
    "①算法设计思路：\n",
    "\n",
    "根据题意得数组 $ A[1..n]$ 满足条件：$A[1]>A[2]$ 并且 $A[n-1]<A[n]$，由题意“局部最小”的定义知数组A肯定存在一个局部最小值。那么根据局部单调性，使用二分查找算法，每次比较中间元素和它的邻居。首先排除掉数组两端的元素，因为局部最小值定义依赖于“左右”比较。然后找到中间元素作为当前元素，如果当前元素小于左右邻居，就是局部最小值，直接返回。如果左边比当前值小，就向左继续查找。否则说明右边存在下降趋势，向右查找。\n",
    "\n",
    "②时间复杂度分析：二分法的时间复杂度为O($logn$)，所以该算法的时间复杂度为O($logn$)。"
   ]
  },
  {
   "cell_type": "code",
   "metadata": {
    "ExecuteTime": {
     "end_time": "2025-05-13T05:28:24.086391Z",
     "start_time": "2025-05-13T05:28:24.055755Z"
    }
   },
   "source": [
    "# add your code here\n",
    "def f(a):\n",
    "    l = 1 \n",
    "    r = len(a) - 2  \n",
    "    while l <= r:\n",
    "        m = (l + r) // 2 \n",
    "        # 如果中间元素是局部最小值，返回该元素\n",
    "        if a[m] < a[m - 1] and a[m] < a[m + 1]:\n",
    "            return a[m]\n",
    "        # 如果左侧元素小于中间元素，说明最小值可能在左半部分\n",
    "        elif a[m - 1] < a[m]:\n",
    "            r = m - 1\n",
    "        # 否则，最小值可能在右半部分\n",
    "        else:\n",
    "            l = m + 1\n",
    "    return None  \n",
    "\n",
    "A = [9, 3, 7, 2, 1, 4, 5]\n",
    "print(f(A))\n",
    "# your algorithm time complexity is :O(logn)"
   ],
   "outputs": [
    {
     "name": "stdout",
     "output_type": "stream",
     "text": [
      "1\n"
     ]
    }
   ],
   "execution_count": 14
  },
  {
   "cell_type": "markdown",
   "metadata": {},
   "source": [
    "idea:"
   ]
  },
  {
   "cell_type": "code",
   "execution_count": null,
   "metadata": {},
   "outputs": [],
   "source": [
    "# add your code here\n",
    "# your algorithm time complexity is :"
   ]
  },
  {
   "cell_type": "markdown",
   "metadata": {},
   "source": [
    "## 问题 8：\n",
    "\n",
    "给定包含n个不同数字的一组数, 寻找一种基于比较的算法在这组数中找到k个最小的数字, 并按顺序输出它们。\n",
    "\n",
    "1. 将n个数先进行排序, 然后按顺序输出最小的k个数。要求：选择合适的排序算法实现上述操作, 计算算法时间复杂度, 并使用python编程实现。\n",
    "2. 建立一个包含这n个数的堆（heap）, 并且调用 k 次Extract-min 按顺序输出最小的k个数。使用往空堆中不断插入元素的方法建立堆, 分析这种方法建堆的时间复杂度, 并使用python编程实现\n",
    "3. \\* 假设数组中包含的数据总数目超过了计算机的存储能力, 请设计一个算法, 找到这堆数据的前k小的数值, 计算时间复杂度, 并使用python实现该算法, 假设计算机一定能存储k个数据。\n",
    "\n",
    "e.g.：\n",
    "---\n",
    "数组arr=[5,4,3,2,6,1,88,33,22,107] 的前3个最小数据为：1, 2, 3\n"
   ]
  },
  {
   "cell_type": "markdown",
   "metadata": {},
   "source": [
    "idea：\n",
    "\n",
    "答：\n",
    "\n",
    "1.①适用算法分析：适用快速排序算法实现排序。如果列表长度小于等于1，返回该列表。如果列表长度大于1，就取数组的第一个元素为基准，小于等于基准的元素放左边l，大于基准的放右边r，然后分别对左右两部分递归地进行快速排序。\n",
    "\n",
    "②时间复杂度分析：\n",
    "\n",
    "最优和平均情况类似，平均每次基准几乎都在中间，那么递归公式为T(n)=2T(n/2)+O(n)，由主定理T(n)=aT(n/b)+f(n)得：a=2,b=2,f(n)=O(n),c=1,满足c=$log_b{a}$，则时间复杂度为T(n)=Θ$(n^(log_ba)logn)=Θ(nlogn)$。\n",
    "\n",
    "最坏的情况下是基准恰好是最大的或者最小的元素，则时间复杂度T(n)=O(n)+O(n-1)+...+O(1)=O($n^2$)。\n",
    "\n",
    "2.建堆时间复杂度分析：\n",
    "\n",
    "往空堆中不断插入元素的方法建立堆，恢复堆的性质时，最差情况是从叶子节点到根节点，而完全二叉树的高度为$logi$，所以每次插入元素的时间复杂度为O($logi$)，一共有n个元素，则T(n)=O($nlogn$)。取出前k个元素的时间复杂度为O($klogn$)，由于K<=n,所以最终的时间复杂度为O($nlogn$)。"
   ]
  },
  {
   "metadata": {
    "ExecuteTime": {
     "end_time": "2025-05-13T05:34:33.516971Z",
     "start_time": "2025-05-13T05:34:33.496692Z"
    }
   },
   "cell_type": "code",
   "source": [
    "# add your code here\n",
    "# Question 1:quick sort\n",
    "def Q(a):\n",
    "    # 如果列表长度小于等于1，返回该列表\n",
    "    if len(a) <= 1:\n",
    "        return a\n",
    "    p = a[0]  # 选择列表的第一个元素作为基准\n",
    "    l = []  # 存储小于等于基准的元素\n",
    "    r = []  # 存储大于基准的元素\n",
    "    # 将剩余元素分配到左右两个列表\n",
    "    for i in range(1, len(a)):\n",
    "        if a[i] <= p:\n",
    "            l.append(a[i])  # 小于等于基准的元素放到左边\n",
    "        else:\n",
    "            r.append(a[i])  # 大于基准的元素放到右边\n",
    "    # 递归地对左右列表进行排序，并返回合并结果\n",
    "    return Q(l) + [p] + Q(r)\n",
    "\n",
    "def F(a, k):\n",
    "    s = Q(a)\n",
    "    res = []\n",
    "    for i in range(k):\n",
    "        res.append(s[i])\n",
    "    return res\n",
    "\n",
    "arr = [5, 4, 3, 2, 6, 1, 88, 33, 22, 107]\n",
    "k = 3\n",
    "print(F(arr, k))\n",
    "# your algorithm time complexity is :Optimal and average is O(nlogn);worst is O(n^2)"
   ],
   "outputs": [
    {
     "name": "stdout",
     "output_type": "stream",
     "text": [
      "[1, 2, 3]\n"
     ]
    }
   ],
   "execution_count": 15
  },
  {
   "cell_type": "code",
   "metadata": {
    "ExecuteTime": {
     "end_time": "2025-05-13T05:38:32.807075Z",
     "start_time": "2025-05-13T05:38:32.788961Z"
    }
   },
   "source": [
    "# add your code here\n",
    "# Question 2:heap\n",
    "import heapq\n",
    "def get_k_smallest_elements(arr, k):\n",
    "    heap = []\n",
    "    # 逐个插入元素到空堆中\n",
    "    for num in arr:\n",
    "        heapq.heappush(heap, num)\n",
    "    # 取出前 k 个最小元素\n",
    "    result = []\n",
    "    for _ in range(k):\n",
    "        if heap:\n",
    "            result.append(heapq.heappop(heap))\n",
    "    return result\n",
    "\n",
    "arr = [5, 4, 3, 2, 6, 1, 88, 33, 22, 107]\n",
    "k = 3\n",
    "print(f\"{get_k_smallest_elements(arr, k)}\")\n",
    "# your algorithm time complexity is :O(nlogn)"
   ],
   "outputs": [
    {
     "name": "stdout",
     "output_type": "stream",
     "text": [
      "[1, 2, 3]\n"
     ]
    }
   ],
   "execution_count": 22
  },
  {
   "cell_type": "markdown",
   "metadata": {},
   "source": [
    "## 问题 9：\n",
    "\n",
    "**选择问题**:给定一个包含n个未排序值的数组A和一个$k≤n$的整数, 返回A中最小的第k项。\n",
    "\n",
    "在课堂上, 学了一个简单的O(n)随机算法来解决选择问题。事实上还有一种更复杂的最坏情况下时间复杂度为$O(n)$ 的选择算法。假设使用一个黑盒过程来实现这个O(n)选择算法: 给定一个数组A、 $p < r$ 和 k,  $BB(A, p, r, k)$ 可以在$O(r−p+ 1)$时间内找到并报告$A[p..r]$中第k小的项的下标。假设你可以在线性时间内处理Partition过程。\n",
    "\n",
    "1. 请分析如何修改 Quicksork 算法可以使其最差情况下的运行时间为 $O(nlogn)$, 使用伪代码实现, 并分析为何修改后的版本最差情况的运行时间为$O(nlogn)$\n",
    "\n",
    "note: 伪代码中, 你可以直接调用用` BB(A,p,r,k)`这个函数用于表示在最坏情况下时间复杂度为$O(n)$的选择算法；\n",
    "\n",
    "\n",
    "\n",
    "2. 找到一个更好的算法报告数组A中的前k小的项, 使用伪代码表示你的算法, 并分析你算法的时间复杂度。\n",
    "\n",
    "举例：A=[13, 3, 7, 9, 11, 1, 15, 2, 8, 10, 12, 16, 14, 5], 当k=4时, 应该报告1, 2, 3, 4\n",
    "\n",
    "note： 最直观的方法就是先将数组A排序, 然后从左向右报告其前k项, 这样操作的时间复杂度为$O(nlogn)$. 调用用` BB(A,p,r,k)`设计一个算法使其报告无序数组A的前k项, 满足时间复杂度好于$\\Theta(nlogn)$, 并且当$k=\\sqrt{n}$时, 你设计的算法时间复杂度应该为$\\Theta(n)$.\n",
    "\n",
    "\n",
    "\n",
    "3. 给定一个大小为n的数组, 找到一个 时间复杂度为$O(n log k)$ 的算法, 该算法将A中的元素重新排序, 使它们被划分为k个部分, 每个部分的元素小于或等于下一部分的元素。假设n和k都是2的幂。使用伪代码表示你的算法, 并分析时间复杂度。\n",
    "\n",
    "e.g.:\n",
    "---\n",
    "数组：[1,  3,  5,  7,  9,  11,  13,  15,  2,  4,  6,  8,  10,  12,  16,  14], k=4, \n",
    "\n",
    "对应重新排序的数组为：[1,  3,  2,  4]  [7,  6,  5,  8]  [12,  11,  10,  9]  [13,  14,  16,  15]\n",
    "\n",
    "\n"
   ]
  },
  {
   "cell_type": "markdown",
   "metadata": {},
   "source": [
    "idea：\n",
    "\n",
    "答：\n",
    "问题一：\n",
    "①算法修改分析：快速排序算法最坏的情况下是基准恰好是最大的或者最小的元素，则时间复杂度T(n)=O(n)+O(n-1)+...+O(1)=O($n^2$)，要修改Quicksork算法使其最差情况下的运行时间为O($nlogn$)，那么可以设置一个黑盒函数$BB(A, p, r, k)$来选择一个好的基准，确保每次划分都能将数组大致均分成两个部分。\n",
    "\n",
    "②时间复杂度分析：每次调用都能将数组划分成几乎相等的两部分，递归关系为T(n)=2T(n/2)+O(n),由主定理得T(n)=aT(n/b)+f(n)得：a=2,b=2,f(n)=O(n),c=1,满足c=$log_ba$，则时间复杂度为T(n)=Θ($n^(log_ba)logn$)=Θ($nlogn$)。\n",
    "\n",
    "③伪代码如下面的代码中的Question 1\n",
    "\n",
    "问题二：\n",
    "①分析：直接利用问题一的$BB(A, p, r, k)$函数来找到第k小的元素，然后划分为两部分，<=k的元素在k的左边，＞=k的元素在k的右边，左边的k个元素就是所求。\n",
    "\n",
    "②时间复杂度：函数$BB(A, p, r, k)$选择的时间复杂度为O(n),分区操作为O(n)，递归调用时使问题规模减半，递归深度为O($logk$),总体时间复杂度为O(n).\n",
    "\n",
    "③伪代码如下面的代码中的Question 2\n",
    "\n",
    "问题三：\n",
    "①分析：\n",
    "使用BB函数找到第n/k,2n/k,...,(k-1)n/k小的元素，然后以这些元素为基准进行划分k次，而且满足每部分的元素小于或等于下一部分的元素。\n",
    "\n",
    "②时间复杂度分析：\n",
    "第0层，大小为n，一次BB函数+划分，时间复杂度为O(n);第1层，大小为2*n/2，两次BB函数+划分，时间复杂度为2*O(n/2);第2层，大小为4*n/4，四个BB函数+划分，时间复杂度为4*O(n/4);...;第$logk$层，大小为($2^(logk)$)*n/($2^(logk)$)，$2^(logk)$次BB函数+划分，时间复杂度为O(n);一共有$logk$层，$logk$个O(n),则时间复杂度为O($nlogk$)。\n",
    "\n",
    "③伪代码如下面的代码中的Question 3"
   ]
  },
  {
   "metadata": {},
   "cell_type": "markdown",
   "source": ""
  },
  {
   "metadata": {},
   "cell_type": "code",
   "outputs": [],
   "execution_count": null,
   "source": [
    "# add your pseudo-code here\n",
    "# Question 1\n",
    "MODIFIED-QUICKSORT(A, p, r):\n",
    "    if p < r:\n",
    "        median_idx = BB(A, p, r, (r - p + 1) / 2) // 使用BB算法选择中位数作为pivot的下标\n",
    "        swap A[median_idx] with A[r]// 将中位数交换到末尾作为pivot\n",
    "        q = PARTITION(A, p, r)// 标准划分过程\n",
    "        // 递归排序两部分\n",
    "        MODIFIED-QUICKSORT(A, p, q-1)\n",
    "        MODIFIED-QUICKSORT(A, q+1, r)"
   ]
  },
  {
   "metadata": {},
   "cell_type": "code",
   "outputs": [],
   "execution_count": null,
   "source": [
    "# add your pseudo-code here\n",
    "# Question 2\n",
    "ReportKSmallest(A, k):\n",
    "    x = BB(A, 0, n-1, k)\n",
    "    threshold = A[x]\n",
    "    B = []\n",
    "    for i in range(0, len(A)):\n",
    "        if A[i] < threshold:\n",
    "            B.append(A[i])\n",
    "        elif A[i] == threshold and len(B) < k:\n",
    "            B.append(A[i])\n",
    "    Sort(B)\n",
    "    return B"
   ]
  },
  {
   "cell_type": "code",
   "execution_count": null,
   "metadata": {},
   "outputs": [],
   "source": [
    "# add your pseudo-code here\n",
    "# Question 3\n",
    "PartitionArray(A, k)\n",
    "    n = len(A)\n",
    "    pivot_indices = []\n",
    "    for i from 1 to k - 1\n",
    "        pivot_indices.append(BB(A, 1, n, i * n // k))\n",
    "    pivot_indices.sort()\n",
    "    // 在 pivot_indices 两端添加边界\n",
    "    pivot_indices = [1] + pivot_indices + [n + 1]\n",
    "    new_A = []\n",
    "    for i from 1 to k\n",
    "        sub_array = A[pivot_indices[i - 1]:pivot_indices[i]]\n",
    "        new_A = new_A + sub_array\n",
    "    return new_A"
   ]
  },
  {
   "cell_type": "markdown",
   "metadata": {},
   "source": [
    "## 问题 10：\n",
    "\n",
    "给定一个包含m个**字符串**的数组A, 其中不同的字符串可能有不同的字符数, 但数组中所有字符串的字符总数为n。设计一个算法在 $O(n)$ 时间内对字符串进行排序, 分析算法设计方案, 计算其时间复杂度, 并基于python编程实现该算法。请注意, 假设字符串只包含\"a\",\"b\",...,\"z\", \n",
    "\n",
    "\n",
    "\n",
    "举例1：数组A=[\"a\", \"da\", \"bde\", \"ab\", \"bc\", \"abdc\", \"cdba\"], 排序后的数组应该为：['a', 'ab', 'abdc', 'bc', 'bde', 'cdba', 'da']\n",
    "\n",
    "\n",
    "\n",
    "举例2：数组A=['ab', 'a', 'b', 'abc', 'ba', 'c'], 排序后的数组应该为：\n",
    "\n",
    "['a', 'ab', 'abc', 'b', 'ba', 'c']\n",
    "\n",
    "\n",
    "\n",
    "举例3：数组A=['aef', 'yzr', 'wr', 'ab', 'bhjc', 'lkabdc', 'pwcdba'],  排序后的数组应该为：['ab', 'aef', 'bhjc', 'lkabdc', 'pwcdba', 'wr', 'yzr']\n",
    "\n",
    "\n",
    "\n",
    "note：\n",
    "\n",
    "-  两个字符之间的比较可以考虑比较他们对应的ASCII码值；\n",
    "- python中可以使用`ord(\"a\")`返回字符 “a”对应的ASCII值"
   ]
  },
  {
   "cell_type": "markdown",
   "metadata": {},
   "source": [
    "idea:\n",
    "\n",
    "答：①算法设计分析：\n",
    "\n",
    "先对字符串进行排序，从字符串的末尾开始比较，依次向前排序。先确定最多要进行多少轮字符位排序，创建一个长度为26的数组，用来统计每个字符出现的次数，根据该数组重新排列字符串。\n",
    "\n",
    "②时间复杂度分析：每一轮计数排序耗时O(n+26)，总论述为最大字符串长度l，则T(n)=O(l*(n+26))=O(n)."
   ]
  },
  {
   "cell_type": "code",
   "metadata": {
    "ExecuteTime": {
     "end_time": "2025-05-13T05:48:50.160963Z",
     "start_time": "2025-05-13T05:48:50.129716Z"
    }
   },
   "source": [
    "# add your code here\n",
    "def f(s):\n",
    "    l = 0  # 用于记录字符串中最长的字符串长度\n",
    "    for w in s:\n",
    "        if len(w) > l:\n",
    "            l = len(w)\n",
    "    p = l - 1  # 从最长字符串的最后一个字符开始排序\n",
    "    while p >= 0:\n",
    "        # 创建27个桶，用于存储按当前字符排序的字符串，以及一个空桶\n",
    "        b = [[] for _ in range(27)]\n",
    "        for x in s:\n",
    "            # 如果字符串长度小于等于当前索引p，则将其放入第一个桶\n",
    "            if p >= len(x):\n",
    "                b[0].append(x)\n",
    "            else:\n",
    "                # 根据字符的ASCII值决定桶的位置\n",
    "                i = ord(x[p]) - ord('a') + 1\n",
    "                b[i].append(x)\n",
    "        # 将桶中的字符串按照顺序合并成新的列表\n",
    "        s = [y for group in b for y in group]\n",
    "        p -= 1  # 继续处理前一个字符（向左移动）\n",
    "    return s  \n",
    "\n",
    "A1 = [\"a\", \"da\", \"bde\", \"ab\", \"bc\", \"abdc\", \"cdba\"]\n",
    "A2 = ['ab', 'a', 'b', 'abc', 'ba', 'c']\n",
    "A3 = ['aef', 'yzr', 'wr', 'ab', 'bhjc', 'lkabdc', 'pwcdba']\n",
    "print(f(A1))\n",
    "print(f(A2))\n",
    "print(f(A3))\n",
    "# your algorithm time complexity is :O(n)"
   ],
   "outputs": [
    {
     "name": "stdout",
     "output_type": "stream",
     "text": [
      "['a', 'ab', 'abdc', 'bc', 'bde', 'cdba', 'da']\n",
      "['a', 'ab', 'abc', 'b', 'ba', 'c']\n",
      "['ab', 'aef', 'bhjc', 'lkabdc', 'pwcdba', 'wr', 'yzr']\n"
     ]
    }
   ],
   "execution_count": 26
  }
 ],
 "metadata": {
  "language_info": {
   "name": "python"
  },
  "kernelspec": {
   "name": "python3",
   "language": "python",
   "display_name": "Python 3 (ipykernel)"
  }
 },
 "nbformat": 4,
 "nbformat_minor": 2
}
