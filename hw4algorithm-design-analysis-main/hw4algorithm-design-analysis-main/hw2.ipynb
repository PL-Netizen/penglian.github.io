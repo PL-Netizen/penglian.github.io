{
 "cells": [
  {
   "cell_type": "markdown",
   "metadata": {},
   "source": [
    "## algorithm design and anlysis-2025 spring  homework 2\n",
    "**Deadline**：2025.5.14\n",
    "\n",
    "**name**:\n",
    "\n",
    "\n",
    "note：\n",
    "---\n",
    "1. 带有\\*的题目，申请免上课的同学，必须完成，其他同学选作；\n",
    "2. 请独立完成，如求助了他人或者大模型，请著明，并且不可省略算法分析部分；\n",
    "4. 如若作答有雷同，全部取消成绩；\n",
    "3. 需要书面作答的题目，可以通过引用图片的形式添加，但是注意上传项目时包含所引用的图片的源文件；\n",
    "4. $log_n$ 默认表示$log_2{n}$;"
   ]
  },
  {
   "cell_type": "markdown",
   "metadata": {},
   "source": [
    "## 问题 1  \n",
    "\n",
    "> 给定一个已排序的链表的头 `head` ， *删除所有重复的元素，使每个元素只出现一次* 。返回 *已排序的链表* 。链表的类如下所示：\n",
    "\n",
    "```python\n",
    "class NodeList:\n",
    "    def __init__(self, val=None, right=None):\n",
    "        self.val   = val\n",
    "        self.right = right\n",
    "```\n",
    "\n",
    "输入是一个数组，你首先需要将数组转化为链表，然后删除链表中的重复元素，再遍历链表元素，以一个数组的形式返回。请设计一个算法解决上述任务，分析算法设计思路，计算时间复杂度, 并基于python编程实现。\n",
    "\n",
    "e.g.  输入：head=[1, 1, 2, 3, 3]   输出：[1, 2, 3]\n",
    "\n",
    "![image-20240502110020439](./fig/hw2q1.png)"
   ]
  },
  {
   "cell_type": "markdown",
   "metadata": {},
   "source": [
    "idea：\n",
    "\n",
    "答：①算法设计思路：\n",
    "\n",
    "先遍历输入的数组，为每一个元素创建一个链表节点，依次连接这些节点形成一个链表。使用一个指针指向链表，判断当前节点的值和下一个节点的值是否相同，相同的话跳过这下一个节点，让当前节点的右指针指向再下一个节点。不同的话，则将指针移动到下一个节点继续检查，最后再次遍历处理后的链表，将每一个节点的值依次添加到一个数组中，返回该数组。\n",
    "\n",
    "②时间复杂度分析：遍历第一个数组的时间复杂度为O(n),跳过重复元素的时间复杂度为O(n)，最后再次遍历链表时间复杂度为O(n)，则总的时间复杂度为O(n)。"
   ]
  },
  {
   "cell_type": "code",
   "metadata": {
    "ExecuteTime": {
     "end_time": "2025-05-13T05:55:19.044741Z",
     "start_time": "2025-05-13T05:55:19.013497Z"
    }
   },
   "source": [
    "# add your idea here\n",
    "class N:\n",
    "    def __init__(self, v=None, r=None):\n",
    "        self.v = v \n",
    "        self.r = r \n",
    "def m(a):\n",
    "    # 将列表a转换为单向链表\n",
    "    d = N()  # 创建一个虚拟头节点\n",
    "    t = d  \n",
    "    for x in a:\n",
    "        t.r = N(x)  # 创建一个新节点并连接到链表\n",
    "        t = t.r  \n",
    "    return d.r  \n",
    "\n",
    "def d(h):\n",
    "    # 删除链表中相邻重复的元素\n",
    "    n = h  \n",
    "    while n and n.r:  \n",
    "        if n.v == n.r.v:  \n",
    "            n.r = n.r.r  # 跳过下一个节点\n",
    "        else:\n",
    "            n = n.r  # 否则，移动到下一个节点\n",
    "    return h  \n",
    "\n",
    "def A(h):\n",
    "    # 将链表转换为列表\n",
    "    res = []  # 用于存储链表节点的值\n",
    "    p = h  \n",
    "    while p:\n",
    "        res.append(p.v)  \n",
    "        p = p.r  \n",
    "    return res  \n",
    "\n",
    "def f(a):\n",
    "    # 删除链表中相邻重复的元素并返回结果列表\n",
    "    h = m(a)  \n",
    "    h = d(h)  \n",
    "    return A(h)  \n",
    "\n",
    "x = [1, 1, 2, 3, 3]\n",
    "print(f(x))\n",
    "# your algorithm time complexity is:O(n)"
   ],
   "outputs": [
    {
     "name": "stdout",
     "output_type": "stream",
     "text": [
      "[1, 2, 3]\n"
     ]
    }
   ],
   "execution_count": 1
  },
  {
   "cell_type": "markdown",
   "metadata": {},
   "source": [
    "## 问题 2  \n",
    "\n",
    "> 下面是一个经典的算法问题：\n",
    ">\n",
    "> - 给定包含n个整数的一个整数数组 `nums` 和一个整数目标值 `target`，请你在该数组中找出 **和为目标值** *`target`* 的那 **两个** 整数，并返回它们的**数组下标**。假设每种输入只会对应一个答案。但是，数组中同一个元素在答案里不能重复出现。你可以按任意顺序返回答案。\n",
    ">\n",
    "> 由于要多次查找数组中元素的位置，为了提高查询效率可以使用哈希表来存储数组中的数据，在哈希表中查询一个元素的复杂度为O(1)。 已知python中的字典是使用哈希表实现的，即使用`dict[key]`查询对应的value时间复杂度为O(1), python提供了查询字典是否包含某个key的功能：`key in dict`，时间复杂度也是O(1)\n",
    "\n",
    "请根据上面信息，设计一个时间复杂度为O(n) 的算法，解决上述算法问题\n",
    "\n",
    "e.g.   \n",
    "\n",
    "输入：nums=[2,7,11,15], target=9， 输出：[0，1]\n",
    "\n",
    "输入：nums=[3,2,4], target=6, 输出：[1,2]\n",
    "\n",
    "输入：nums=[3,3], target=6,  输出：[0,1]\n"
   ]
  },
  {
   "metadata": {},
   "cell_type": "markdown",
   "source": [
    "idea:\n",
    "\n",
    "答：①算法设计思路：\n",
    "\n",
    "遍历数组，设置一个字典来存储这个数组和其对应的下边。对于数组中的每个元素，计算其补数，检查数组中是否存在这个补数，如果存在，那么返回[dict[need],i],如果不存在，将当前元素存入字典dict[now]=i。\n",
    "\n",
    "②时间复杂度分析：遍历数组的时间复杂度为O(n),每次字典的查找/插入为O(n),所以总的时间复杂度为O(n)."
   ]
  },
  {
   "cell_type": "code",
   "metadata": {
    "ExecuteTime": {
     "end_time": "2025-05-13T06:00:42.250049Z",
     "start_time": "2025-05-13T06:00:42.218771Z"
    }
   },
   "source": [
    "# add your idea here\n",
    "def f(nums, target):\n",
    "    m = {}  \n",
    "    for i, num in enumerate(nums):\n",
    "        n = target - num\n",
    "        if n in m:\n",
    "            return [m[n], i]\n",
    "        m[num] = i\n",
    "\n",
    "print(f([2, 7, 11, 15], 9))  \n",
    "print(f([3, 2, 4], 6))      \n",
    "print(f([3, 3], 6))             \n",
    "# your algorithm time complexity is: O(n)"
   ],
   "outputs": [
    {
     "name": "stdout",
     "output_type": "stream",
     "text": [
      "[0, 1]\n",
      "[1, 2]\n",
      "[0, 1]\n"
     ]
    }
   ],
   "execution_count": 5
  },
  {
   "cell_type": "markdown",
   "metadata": {},
   "source": [
    "## 问题 3:   \n",
    "\n",
    "> 栈是一种常用的数据结构，编译器中通常使用栈来实现表达式求值。\n",
    ">\n",
    "> 以表达式 $3+5 \\times 8-6$​ 为例。编译器使用两个栈来完成运算，即一个栈保持操作数，另一个栈保存运算符。\n",
    ">\n",
    "> 1. 从左向右遍历表达式，遇到数字就压入操作数栈；\n",
    ">\n",
    "> 2. 遇到运算符，就与运算符栈的栈顶元素进行比较。如果比运算符栈顶元素的优先级高，就将当前运算符压入栈；如果比运算符栈顶元素的优先级低或者相同，从运算符栈中取栈顶运算符，从操作数栈的栈顶取 2 个操作数，然后进行计算，再把计算完的结果压入操作数栈，继续比较。\n",
    ">\n",
    "> 下图是 $3+5 \\times 8-6$  这个表达式的计算过程：\n",
    "\n",
    "![figure](./fig/hw2q3.png)\n",
    "\n",
    "根据上述原理，请设计一个算法完成表达式的运算，当输入为表达式字符串，返回对应的计算结果。分析算法设计思路，计算时间复杂度，并基于python编程实现\n",
    "\n",
    "**note：**\n",
    "\n",
    "1. 假设输入的表达式只会出现加（“+”），减 “-”， 乘“*”，除 “/” 四个运算符, 表达式中只会出现正整数\n",
    "2. python中` str.isdigit()`函数可以判断字符串str是否为数字，\n",
    "\n",
    "\n",
    "\n",
    "e.g. :\n",
    "---\n",
    "\n",
    "1. 输入：“$3+5 * 8 -6$”   输出：37\n",
    "\n",
    "2. 输入：“$34+13*9 + 44-12/3$”  输出：191"
   ]
  },
  {
   "cell_type": "markdown",
   "metadata": {},
   "source": [
    "idea：\n",
    "\n",
    "答：①算法设计思路：\n",
    "\n",
    "和题意一样使用两个栈来完成运算，即一个栈保持操作数，另一个栈保存运算符。从左向右遍历表达式，遇到数字就压入操作数栈；遇到运算符，就与运算符栈的栈顶元素进行比较。如果比运算符栈顶元素的优先级高，就将当前运算符压入栈；否则从操作数栈的栈顶取 2 个操作数，然后进行计算，再把计算完的结果压入操作数栈，继续比较。遍历完成之后处理栈中剩余运算符，最后操作数栈中只有一个值，就是最后的结果。\n",
    "\n",
    "②时间复杂度分析：每个数字和符号最多出栈入栈一次，所以时间复杂度为O(n)。"
   ]
  },
  {
   "metadata": {},
   "cell_type": "markdown",
   "source": "![img](./fig/pl_hw2q3.png)"
  },
  {
   "cell_type": "code",
   "metadata": {
    "ExecuteTime": {
     "end_time": "2025-05-13T06:03:31.105403Z",
     "start_time": "2025-05-13T06:03:31.089954Z"
    }
   },
   "source": [
    "# add your idea here\n",
    "def m(w, s, f):\n",
    "    if w == '+':\n",
    "        return f + s \n",
    "    elif w == '-':\n",
    "        return f - s \n",
    "    elif w == '*':\n",
    "        return f * s \n",
    "    elif w == '/':\n",
    "        return f // s \n",
    "\n",
    "def c(e):\n",
    "    n = []  # 用栈n存储操作数\n",
    "    o = []  # 用栈o存储操作符\n",
    "    l = {'+': 1, '-': 1, '*': 2, '/': 2}  # 设置操作符优先级\n",
    "    i = 0  \n",
    "    while i < len(e):  \n",
    "        ch = e[i]  \n",
    "        if ch.isdigit():  # 如果当前字符是数字\n",
    "            num = 0  \n",
    "            while i < len(e) and e[i].isdigit():  \n",
    "                num = num * 10 + int(e[i])  \n",
    "                i += 1\n",
    "            n.append(num)  \n",
    "        else:  # 如果当前字符是操作符\n",
    "            while o and l[o[-1]] >= l[ch]:\n",
    "                op = o.pop()  # 弹出栈顶操作符\n",
    "                n2 = n.pop()  \n",
    "                n1 = n.pop()  # 弹出次栈操作数\n",
    "                n.append(m(op, n2, n1))  # 执行运算并将结果压回栈n\n",
    "            o.append(ch)  \n",
    "            i += 1  \n",
    "    # 处理栈中剩余的操作符\n",
    "    while o:\n",
    "        op = o.pop()\n",
    "        n2 = n.pop()\n",
    "        n1 = n.pop()\n",
    "        n.append(m(op, n2, n1))\n",
    "    return n[0] \n",
    "\n",
    "print(c(\"3+5*8-6\")) \n",
    "print(c(\"34+13*9+44-12/3\"))  \n",
    "# your algorithm time complexity is: O(n)"
   ],
   "outputs": [
    {
     "name": "stdout",
     "output_type": "stream",
     "text": [
      "37\n",
      "191\n"
     ]
    }
   ],
   "execution_count": 6
  },
  {
   "cell_type": "markdown",
   "metadata": {},
   "source": [
    "## 问题 4:  \n",
    "\n",
    "> 星球碰撞问题：现有n个星球，在同一条直线上运行，如数组A所示，元素的绝对值表示星球的质量，负数表示星球自右向左运动，正数表示星球自左向右运动，当两个星球相撞的时候，质量小的会消失，大的保持不变，**质量相同的两个星球碰撞后自右向左运动的星球消失，自左向右的星球保持不变**，假设所有星球的速度大小相同。\n",
    ">\n",
    "> $ A=[23,-8, 9, -3, -7, 9, -23, 22] $\n",
    "\n",
    "请设计一个算法模拟星球的运行情况，输出最终的星球存续情况（输出一个数组），分析算法设计思路，计算时间复杂度，并基于python编程实现。\n",
    "\n",
    "e.g.\n",
    "---\n",
    "1.  输入： A=[-3,-6,2,8, 5,-8,9,-2,1]， 输出：[-3, -6, 2, 8, 9, 1]\n",
    "\n",
    "2. 输入：A=[23,-8, 9, -3, -7, 9, -23, 22], 输出：[23, 22]\n",
    "\n"
   ]
  },
  {
   "metadata": {},
   "cell_type": "markdown",
   "source": [
    "idea：\n",
    "\n",
    "答：①算法设计思路：\n",
    "\n",
    "使用栈来模拟星球的运行情况，先建立一个空栈，用来存储存活的星球。如果当前星球是正数，就入栈，如果是负数，则会和栈顶元素发生碰撞：比较两个碰撞星球的绝对值大小，如果负数星球绝对值大，那么正数星球出栈，持续比较；如果绝对值相等，负数星球消失，正数星球保留，停止比较；如果正数星球绝对值大，负数星球消失不入栈。如果栈为空或者栈顶为负数，则入栈。\n",
    "\n",
    "②时间复杂度分析：每个星球最多出栈入栈一次，所以时间复杂度为O(n)。"
   ]
  },
  {
   "metadata": {},
   "cell_type": "markdown",
   "source": "![img](./fig/pl_hw2q4.png)"
  },
  {
   "metadata": {
    "ExecuteTime": {
     "end_time": "2025-05-13T06:04:45.973120Z",
     "start_time": "2025-05-13T06:04:45.957468Z"
    }
   },
   "cell_type": "code",
   "source": [
    "# add your idea here\n",
    "def s(A):\n",
    "    stk = []  \n",
    "    for p in A:  \n",
    "        while stk and stk[-1] > 0 and p < 0:  # 如果栈不为空，且栈顶元素为正数，当前元素为负数\n",
    "            if abs(stk[-1]) > abs(p):  # 栈顶绝对值较大，跳出循环\n",
    "                break\n",
    "            elif abs(stk[-1]) < abs(p):  # 当前元素绝对值较大，弹出栈顶元素\n",
    "                stk.pop()\n",
    "                continue  \n",
    "            else:  # 当前元素绝对值相等，两个元素相互抵消，跳出循环\n",
    "                break\n",
    "        else:\n",
    "            stk.append(p)  # 栈为空或当前元素没有与栈顶元素碰撞，直接将元素压入栈中\n",
    "    return stk  \n",
    "\n",
    "print(s([-3, -6, 2, 8, 5, -8, 9, -2, 1]))  \n",
    "print(s([23, -8, 9, -3, -7, 9, -23, 22]))\n",
    "# your algorithm time complexity is:O(n)"
   ],
   "outputs": [
    {
     "name": "stdout",
     "output_type": "stream",
     "text": [
      "[-3, -6, 2, 8, 9, 1]\n",
      "[23, 22]\n"
     ]
    }
   ],
   "execution_count": 7
  },
  {
   "cell_type": "markdown",
   "metadata": {},
   "source": [
    "## 问题 5 \n",
    "\n",
    "> 给定一个无序数组nums=[9,-3,-10,0,9,7,33]，请建立一个二叉搜索树存储数组中的所有元素，之后删除二叉树中的元素“0”，再使用中序遍历输出二叉搜索树中的所有元素。\n",
    "\n",
    "使用python编程完成上述任务，并计算时间复杂度\n"
   ]
  },
  {
   "metadata": {},
   "cell_type": "markdown",
   "source": [
    "答：1.python代码如下：\n",
    "\n",
    "2.时间复杂度分析：\n",
    "\n",
    "①insert(root, value)、find_min_node(node)和delete_node(root, value)一样，每次插入操作沿着树的一条路径进行，最多走到叶子节点，时间复杂度取决于树的高度 h，最坏情况下二叉搜索树退化为链表，时间复杂度为O(n)；最佳情况下为O($logn$)。\n",
    "\n",
    "②inorder(root, result_list)中序遍历时间复杂度为O(n)。\n",
    "\n",
    "所以总的时间复杂度为O(n)。"
   ]
  },
  {
   "metadata": {},
   "cell_type": "markdown",
   "source": "![img](./fig/pl_hw2q5.png)"
  },
  {
   "cell_type": "code",
   "metadata": {
    "ExecuteTime": {
     "end_time": "2025-05-13T06:12:03.770063Z",
     "start_time": "2025-05-13T06:12:03.754616Z"
    }
   },
   "source": [
    "# add your idea here\n",
    "class N:\n",
    "    def __init__(self, v):\n",
    "        self.v = v\n",
    "        self.l = None\n",
    "        self.r = None\n",
    "\n",
    "def insert(r, v):\n",
    "     # 插入一个新节点v到二叉搜索树中\n",
    "    if r is None:\n",
    "        return N(v)\n",
    "    if v < r.v:\n",
    "        r.l = insert(r.l, v)\n",
    "    else:\n",
    "        r.r = insert(r.r, v)\n",
    "    return r\n",
    "\n",
    "def delete(r, v):\n",
    "    if r is None:\n",
    "        return None\n",
    "    if v < r.v:\n",
    "        r.l = delete(r.l, v)\n",
    "    elif v > r.v:\n",
    "        r.r = delete(r.r, v)\n",
    "    else:\n",
    "        # 找到节点\n",
    "        if r.l is None:\n",
    "            return r.r\n",
    "        elif r.r is None:\n",
    "            return r.l\n",
    "        else:\n",
    "            # 查找右子树最小值节点\n",
    "            m = r.r\n",
    "            while m.l:\n",
    "                m = m.l\n",
    "            r.v = m.v\n",
    "            r.r = delete(r.r, m.v)\n",
    "    return r\n",
    "\n",
    "def in_order(r, res):\n",
    "    if r is None:\n",
    "        return\n",
    "    in_order(r.l, res)\n",
    "    res.append(r.v)\n",
    "    in_order(r.r, res)\n",
    "\n",
    "nums = [9, -3, -10, 0, 9, 7, 33]\n",
    "r = None\n",
    "for n in nums:\n",
    "    r = insert(r, n)\n",
    "r = delete(r, 0)  # 删除值为 0 的节点\n",
    "res = []\n",
    "in_order(r, res)\n",
    "print(res)\n",
    "# your algorithm time complexity is:O(n)"
   ],
   "outputs": [
    {
     "name": "stdout",
     "output_type": "stream",
     "text": [
      "[-10, -3, 7, 9, 9, 33]\n"
     ]
    }
   ],
   "execution_count": 14
  },
  {
   "cell_type": "markdown",
   "metadata": {},
   "source": [
    "## 问题 6  \n",
    "\n",
    "> 给定一个包含大写字母和小写字母的字符串 s ，返回 字符串包含的 **最长的回文子串的长度** 。请注意 区分大小写 。比如 \"Aa\" 不能当做一个回文字符串。\n",
    ">\n",
    "\n",
    "请设计一个算法解决上述问题，只需要输出最长回文子串的长度，分析算法设计思路，计算时间复杂度，并基于python编程实现\n",
    "\n",
    "e.g. 输入： s=\"adccaccd\"，  输出：7。 最长回文子串为：\"dccaccd\", 长度为7\n"
   ]
  },
  {
   "cell_type": "markdown",
   "metadata": {},
   "source": [
    "idea：\n",
    "\n",
    "答：①算法设计思路：\n",
    "\n",
    "对于每个字符，都有可能是回文中心，此时回文串长度为奇数；长度为偶数时，中心是两个相同的字符。遍历字符串中的每一个字符，把它作为中心向两边扩展，找到以该字符串为中心的最长的回文子串。对于相邻且相同的两个字符，也把他们作为中心向两边扩展，找到以他们为中心的最长回文子串，再遍历过程中记录找到的最长回文子串的长度。\n",
    "\n",
    "![img](./fig/pl_hw2q6.png)\n",
    "\n",
    "②时间复杂度分析：对于每个字符，最多会进行两次扩展，每次扩展的时间复杂度为O(n),所以总的时间复杂度为O($n^2$)。"
   ]
  },
  {
   "cell_type": "code",
   "metadata": {
    "ExecuteTime": {
     "end_time": "2025-05-13T06:14:35.609144Z",
     "start_time": "2025-05-13T06:14:35.589088Z"
    }
   },
   "source": [
    "# add your idea here\n",
    "def lp(s):\n",
    "    if not s:\n",
    "        return 0\n",
    "    def expand(l, r):\n",
    "        while l >= 0 and r < len(s) and s[l] == s[r]:\n",
    "            l -= 1\n",
    "            r += 1\n",
    "        return r - l - 1\n",
    "    m = 1\n",
    "    for i in range(len(s)):\n",
    "        l1 = expand(i, i)\n",
    "        l2 = expand(i, i + 1)\n",
    "        m = max(m, l1, l2)\n",
    "    return m\n",
    "\n",
    "s = \"adccaccd\"\n",
    "print(lp(s))\n",
    "# your algorithm time complexity is:O(n^2)"
   ],
   "outputs": [
    {
     "name": "stdout",
     "output_type": "stream",
     "text": [
      "7\n"
     ]
    }
   ],
   "execution_count": 15
  },
  {
   "cell_type": "markdown",
   "metadata": {},
   "source": [
    "## 问题 7 \n",
    "\n",
    "> 沿一条长河流分散着n座房子。你可以把这条河想象成一条轴，房子是由它们在这条轴上的坐标按顺序排列的。你的公司想在河边的特定地点设置手机基站，这样每户人家都在距离基站4公里的范围内。输入可以看作为一个升序数组，数组元素的取值为大于等于0的正整数，你需要输出最小基站的数目，基站的位置。\n",
    "\n",
    "1. 给出一个时间复杂度为$O(n$) 的算法，使所使用的基站数量最小化，分析算法设计思路，使用python编程实现\n",
    "2. 证明1.中算法产生了最优解决方案。\n",
    "\n",
    "e.g. \n",
    "\n",
    "输入： [1, 5, 12, 33, 34,35]  输出：基站数目为3， 基站位置为[1，12，33]"
   ]
  },
  {
   "cell_type": "markdown",
   "metadata": {},
   "source": [
    "idea：\n",
    "\n",
    "答：①算法设计思路：\n",
    "\n",
    "从第一个房子开始，找出可以覆盖盖房子的最远基站位置，跳过所有被该基站覆盖的房屋。遍历每个住宅，如果住宅不在任何已建立基站的覆盖范围内，就在该住宅处建立一个新的基站,重复此过程直至覆盖所有房屋。\n",
    "\n",
    "![img](./fig/pl_hw2q7.png)\n",
    "\n",
    "②证明：\n",
    "算法在每一步都选择从当前最左侧未被覆盖的房屋出发，在其右侧尽可能远的位置放置一个基站，从而覆盖最多的房屋，确保每个基站都最大化其覆盖效益。若存在一个比该算法更少基站数的方案，必然无法覆盖某些房屋或存在覆盖重叠的冗余，故该算法产生的是一个最优解。"
   ]
  },
  {
   "cell_type": "code",
   "metadata": {
    "ExecuteTime": {
     "end_time": "2025-05-06T10:49:50.966208Z",
     "start_time": "2025-05-06T10:49:50.948895Z"
    }
   },
   "source": [
    "# add your idea here\n",
    "def min_station(h):\n",
    "    s = []\n",
    "    n = len(h)\n",
    "    i = 0\n",
    "    while i < n:\n",
    "        start = h[i]\n",
    "        while i < n and h[i] <= start + 4:\n",
    "            i += 1\n",
    "        s.append(start)\n",
    "        while i < n and h[i] <= start + 8:\n",
    "            i += 1\n",
    "    return len(s), s\n",
    "\n",
    "houses = [1, 5, 12, 33, 34, 35]\n",
    "num, pos = min_station(houses)\n",
    "print(\"基站数目为\", num, \"，基站位置为\", pos)\n",
    "# your algorithm time complexity is:O(n)"
   ],
   "outputs": [
    {
     "name": "stdout",
     "output_type": "stream",
     "text": [
      "基站数目为 3 ，基站位置为 [1, 12, 33]\n"
     ]
    }
   ],
   "execution_count": 22
  },
  {
   "cell_type": "markdown",
   "metadata": {},
   "source": [
    "## 问题 8  \n",
    "\n",
    "> 给定由n个正整数组成的一个集合$S = \\{a_1, a_2，···，a_n\\}$和一个正整数W，设计一个算法确定是否存在S的一个子集 $K \\subseteq S$, 使K中所有数之和为 $W$, 如果存在返回“True”，否则返回“False”\n",
    "\n",
    "请设计一个时间复杂度为$O(nW)$动态规划算法，解决上述问题，分析算法的设计思路，并且基于python编程实现（不需要输出子集）。\n",
    "\n",
    "e.g. \n",
    "\n",
    "输入：S = {1,4,7,3,5}， W = 11，输出：True。   因为K可以是{4,7}。\n",
    "\n"
   ]
  },
  {
   "cell_type": "markdown",
   "metadata": {},
   "source": [
    "idea：\n",
    "\n",
    "答：算法设计思路：\n",
    "\n",
    "定义一个二维布尔数组t[i][j]，设t[i][j]表示前i个元素中是否存在一个子集，其和为j。如果不选第i个元素，则t[i][j]=dp[i-1][j]。如果选第i个元素，则t[i][j]=dp[i-1][j-a[i-1]]。最后根据t[n][W]判断。"
   ]
  },
  {
   "cell_type": "code",
   "metadata": {
    "ExecuteTime": {
     "end_time": "2025-05-13T06:15:36.513054Z",
     "start_time": "2025-05-13T06:15:36.497430Z"
    }
   },
   "source": [
    "# add your idea here\n",
    "def subset_sum(S, W):\n",
    "    n = len(S) \n",
    "    t = []  \n",
    "    for i in range(n + 1):\n",
    "        r = []\n",
    "        for j in range(W + 1):\n",
    "            r.append(False)\n",
    "        t.append(r)\n",
    "    for i in range(n + 1):\n",
    "        t[i][0] = True\n",
    "    \n",
    "    for i in range(1, n + 1):  \n",
    "        for j in range(1, W + 1):  \n",
    "            if j < S[i - 1]:  # 如果当前目标和小于当前元素值，不能选择当前元素\n",
    "                t[i][j] = t[i - 1][j]  # 不选择当前元素，结果与上一个状态相同\n",
    "            else:\n",
    "                if t[i - 1][j] == True:\n",
    "                    t[i][j] = True  \n",
    "                elif t[i - 1][j - S[i - 1]] == True:\n",
    "                    t[i][j] = True  \n",
    "    return t[n][W]\n",
    "\n",
    "nums = [1, 4, 7, 3, 5] \n",
    "target = 11 \n",
    "print(subset_sum(nums, target))  \n",
    "# your algorithm time complexity is: O(nW)"
   ],
   "outputs": [
    {
     "name": "stdout",
     "output_type": "stream",
     "text": [
      "True\n"
     ]
    }
   ],
   "execution_count": 16
  },
  {
   "cell_type": "markdown",
   "metadata": {},
   "source": [
    "\n",
    "\n",
    "## 问题 9 \n",
    "\n",
    "> 给定一个n个物品的集合。物体的重量为$w_1, w_2，…、w_n$，物品的价值分别是$v_1、v_2、…v_n$。给你**两个**重量为 $c$ 的背包。如果你带了一个东西，它可以放在一个背包里，也可以放在另一个背包里，但不能同时放在两个背包里。所有权重和价值都是正整数。\n",
    "\n",
    "1. 设计一个时间复杂度为 $O(nc^2)$ 的动态规划算法，确定可以放入两个背包的物体的最大价值。分析算法设计思路，并基于python编程实现\n",
    "2. \\* 修改1中的算法，输出每个背包的内容（物品对应下标）。\n",
    "\n",
    "e.g.: \n",
    "\n",
    "输入 V=[1,3,2,5,8,7], W=[1,3,2,5,8,7], c=7, 输出：最大价值=14，背包装的物品为：[6] [4，3] （同一个背包中物品装入顺序对结果无影响）  \n"
   ]
  },
  {
   "cell_type": "markdown",
   "metadata": {},
   "source": [
    "idea：\n",
    "\n",
    "答：算法设计思路：\n",
    "\n",
    "定义一个三维数组dp[i][j][k]：表示前i个物品，第一个背包用了j容量，第二个背包用了k容量时，所能获得的最大价值。对于第i个物品：不放：dp[i+1][j][k] = max(dp[i+1][j][k], dp[i][j][k])，放入背包1（若容量允许）：dp[i+1][j+w][k] = max(dp[i+1][j+w][k], dp[i][j][k]+v)，放入背包2（若容量允许）：dp[i+1][j][k+w] = max(dp[i+1][j][k+w], dp[i][j][k]+v)。"
   ]
  },
  {
   "cell_type": "code",
   "metadata": {
    "ExecuteTime": {
     "end_time": "2025-05-13T06:18:19.469879Z",
     "start_time": "2025-05-13T06:18:19.438636Z"
    }
   },
   "source": [
    "# add your idea here\n",
    "def two_bag(V, W, c):\n",
    "    n = len(V)  \n",
    "    dp = [[[0 for _ in range(c + 1)] for _ in range(c + 1)] for _ in range(n + 1)]\n",
    "    for i in range(n):\n",
    "        for j in range(c + 1):\n",
    "            for k in range(c + 1):\n",
    "                current_val = dp[i][j][k]\n",
    "                # 不放入任何物品的情况\n",
    "                dp[i + 1][j][k] = max(dp[i + 1][j][k], current_val)\n",
    "                # 物品i放入背包1的情况\n",
    "                if j + W[i] <= c:\n",
    "                    dp[i + 1][j + W[i]][k] = max(dp[i + 1][j + W[i]][k], current_val + V[i])\n",
    "                # 物品i放入背包2的情况\n",
    "                if k + W[i] <= c:\n",
    "                    dp[i + 1][j][k + W[i]] = max(dp[i + 1][j][k + W[i]], current_val + V[i])\n",
    "    \n",
    "    # 查找最大价值和对应的背包1、背包2的容量\n",
    "    max_value = 0\n",
    "    best_j = best_k = 0\n",
    "    for j in range(c + 1):\n",
    "        for k in range(c + 1):\n",
    "            if dp[n][j][k] > max_value:\n",
    "                max_value = dp[n][j][k]\n",
    "                best_j = j\n",
    "                best_k = k\n",
    "    \n",
    "    # 找出放入背包1和背包2的物品\n",
    "    bag1 = []\n",
    "    bag2 = []\n",
    "    i = n\n",
    "    j = best_j\n",
    "    k = best_k\n",
    "    \n",
    "    while i > 0:\n",
    "        current_val = dp[i][j][k]\n",
    "        # 如果当前状态和前一状态相同，说明物品i没有放入背包\n",
    "        if current_val == dp[i - 1][j][k]:\n",
    "            i -= 1\n",
    "        elif j >= W[i - 1] and current_val == dp[i - 1][j - W[i - 1]][k] + V[i - 1]:\n",
    "            bag1.append(i)  \n",
    "            j -= W[i - 1]  \n",
    "            i -= 1\n",
    "        elif k >= W[i - 1] and current_val == dp[i - 1][j][k - W[i - 1]] + V[i - 1]:\n",
    "            bag2.append(i)  \n",
    "            k -= W[i - 1]  \n",
    "            i -= 1\n",
    "    return max_value, bag1, bag2\n",
    "\n",
    "V = [1, 3, 2, 5, 8, 7]  \n",
    "W = [1, 3, 2, 5, 8, 7]  \n",
    "c = 7  \n",
    "\n",
    "val, b1, b2 = two_bag(V, W, c)  \n",
    "print(\"最大价值 =\", val) \n",
    "print(\"背包1装的物品有:\", b1)  \n",
    "print(\"背包2装的物品有:\", b2)  \n",
    "# your algorithm time complexity is: O(nc^2)"
   ],
   "outputs": [
    {
     "name": "stdout",
     "output_type": "stream",
     "text": [
      "最大价值 = 14\n",
      "背包1装的物品有: [6]\n",
      "背包2装的物品有: [4, 3]\n"
     ]
    }
   ],
   "execution_count": 18
  },
  {
   "cell_type": "markdown",
   "metadata": {},
   "source": [
    "## 问题 10 \n",
    "\n",
    "> 给定两个字符串 $x[1..n]$ 和 $y[1..m]$，我们想通过以下操作将 $x$ 变换为 $y$ :\n",
    ">\n",
    "> **插入**：在 $x$ 中插入一个字符(在任何位置)；**删除**：从 $x$ 中删除一个字符(在任何位置)； **替换**：用另一个字符替换 $x$ 中的一个字符。\n",
    ">\n",
    "> 例如: $x = abcd$, $y = bcfe$，\n",
    ">\n",
    "> - 将 $x$ 转换为 $y$ 的一种可能方法是：1. 删除 $x$ 开头的 $a$, $x$变成 $bcd$； 2. 将 $x$ 中的字符 $d$ 替换为字符 $f$。$x$ 变成 $bcf$； 3. 在 $x$ 的末尾插入字符 $e$。$x$ 变成 $bcfe$。\n",
    ">\n",
    "> - 另一种可能的方法：1. 删除 $x$ 开头的 $a$,  $x$ 变成 $bcd$； 2. 在 $x$ 中字符 $d$ 之前插入字符 $f$。$x$ 变成 $bcfd$。3. 将 $x$ 中的字符 $d$ 替换为字符 $e$。$x$ 变成 $bcfe$。\n",
    "\n",
    "设计一个时间复杂度为 $O(mn)$ 的算法，返回将 $x$ 转换为 $y$ 所需的最少操作次数。分析算法设计思路，并基于python编程实现。\n"
   ]
  },
  {
   "cell_type": "markdown",
   "metadata": {},
   "source": [
    "idea：\n",
    "\n",
    "答：算法设计思路：\n",
    "\n",
    "设二维数组dp[i][j]表示将x前i个字符转换为y的前j个字符所需的最少操作次数。若x[i-1]==y[j-1]：说明当前字符相同，不需要任何操作dp[i][j]=dp[i-1][j-1]，若x[i-1]!=y[j-1]：则有三种操作方式：插入：dp[i][j-1]+1，删除：dp[i-1][j]+1，替换：dp[i-1][j-1]+1，取三者最小值。"
   ]
  },
  {
   "cell_type": "code",
   "metadata": {
    "ExecuteTime": {
     "end_time": "2025-05-13T06:19:19.485050Z",
     "start_time": "2025-05-13T06:19:19.453779Z"
    }
   },
   "source": [
    "# add your idea here\n",
    "def edit_distance(x, y):\n",
    "    n = len(x) \n",
    "    m = len(y)  \n",
    "    dp = [[0] * (m + 1) for _ in range(n + 1)]  \n",
    "    for i in range(n + 1):\n",
    "        dp[i][0] = i  # 将第一列设为从0到n的数值，表示将x的前i个字符转化为空串所需的操作数\n",
    "    for j in range(m + 1):\n",
    "        dp[0][j] = j  # 将第一行设为从0到m的数值，表示将y的前j个字符转化为空串所需的操作数\n",
    "\n",
    "    for i in range(1, n + 1):\n",
    "        for j in range(1, m + 1):\n",
    "            if x[i - 1] == y[j - 1]:\n",
    "                dp[i][j] = dp[i - 1][j - 1]  # 如果当前字符相同，则不需要操作，继承左上角的值\n",
    "            else:\n",
    "                dp[i][j] = min(\n",
    "                    dp[i - 1][j] + 1,  # 删除：将x的第i个字符删除\n",
    "                    dp[i][j - 1] + 1,  # 插入：将y的第j个字符插入\n",
    "                    dp[i - 1][j - 1] + 1  # 替换：将x的第i个字符替换成y的第j个字符\n",
    "                )\n",
    "\n",
    "    return dp[n][m]  \n",
    "\n",
    "x = \"abcd\"\n",
    "y = \"bcfe\"\n",
    "print(\"最少操作次数:\", edit_distance(x, y))\n",
    "# your algorithm time complexity is: O(mn)"
   ],
   "outputs": [
    {
     "name": "stdout",
     "output_type": "stream",
     "text": [
      "最少操作次数: 3\n"
     ]
    }
   ],
   "execution_count": 19
  }
 ],
 "metadata": {
  "language_info": {
   "name": "python"
  },
  "kernelspec": {
   "name": "python3",
   "language": "python",
   "display_name": "Python 3 (ipykernel)"
  }
 },
 "nbformat": 4,
 "nbformat_minor": 2
}
