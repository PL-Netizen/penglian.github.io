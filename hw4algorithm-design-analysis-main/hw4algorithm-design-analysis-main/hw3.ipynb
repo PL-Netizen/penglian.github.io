{
 "cells": [
  {
   "cell_type": "markdown",
   "metadata": {},
   "source": [
    "## algorithm design and anlysis-2025 spring  homework 3\n",
    "**Deadline**：2025.5.14\n",
    "\n",
    "**name**:\n",
    "\n",
    "\n",
    "note：\n",
    "---\n",
    "1. 带有\\*的题目，申请免上课的同学，必须完成，其他同学选作；\n",
    "2. 请独立完成，如求助了他人或者大模型，请著明，并且不可省略算法分析部分；\n",
    "4. 如若作答有雷同，全部取消成绩；\n",
    "3. 需要书面作答的题目，可以通过引用图片的形式添加，但是注意上传项目时包含所引用的图片的源文件；\n",
    "4. $log_n$ 默认表示$log_2{n}$;"
   ]
  },
  {
   "cell_type": "markdown",
   "metadata": {},
   "source": [
    "## 问题 1  \n",
    "\n",
    "请证明基于比较的排序算法计算复杂度下界为$\\Omega(nlogn)$"
   ]
  },
  {
   "cell_type": "markdown",
   "metadata": {},
   "source": [
    "you can refer a handwritten picture, pleas upload the picture in /fig/xxx.png\n",
    "\n",
    "answer：\n",
    "\n",
    "The answer is in /fig/pl_hw3q1.png"
   ]
  },
  {
   "metadata": {},
   "cell_type": "markdown",
   "source": "![img](./fig/pl_hw3q1.png)"
  },
  {
   "cell_type": "markdown",
   "metadata": {},
   "source": [
    "## 问题 2 \n",
    "\n",
    "构建二叉搜索树\n",
    "\n",
    "> 1. 给定一个数组 [48, 33, 49, 47, 42, 46, 32], 构建一个二叉搜索树存储这些数据，请**绘制**所构建的**二叉搜索树**（标明结点的值）。\n",
    "> 2. 从第1问的二叉搜索树中删除33，请**绘制**删除33后的**二叉搜索树**（标明结点的值）\n",
    "\n",
    "- 推荐使用graphviz包绘制树的结构"
   ]
  },
  {
   "cell_type": "markdown",
   "metadata": {},
   "source": [
    "you can refer a handwritten picture, pleas upload the picture in /fig/xxx.png\n",
    "\n",
    "answer：The answer is ./fig/pl_hw3q2.png.\n",
    "\n",
    "![img](./fig/pl_hw3q2.png)"
   ]
  },
  {
   "cell_type": "markdown",
   "metadata": {},
   "source": [
    "## 问题 3 \n",
    "\n",
    "> 下面是九门课程的开始和结束时间:\n",
    ">\n",
    "> [(9:00,12:30), (11:00,14:00), (13:00, 14:30), (9:00,10:30),(13:00, 14:30),(14:00,16:30), (15:00,16:30), (15:00,16:30), (9:00,10:30)]\n",
    ">\n",
    "> 请使用贪婪算法为这九门课分配教室，要求在同一天内安排这些课，并且每个教室同一时间只能安排一门课。\n",
    "\n",
    "**请问最少需要几间教室，罗列出每个教室安排的课程**"
   ]
  },
  {
   "cell_type": "markdown",
   "metadata": {},
   "source": [
    "idea：\n",
    "\n",
    "答：将所有课程按开始时间排序，设置一个最小堆，堆中存储当前正在使用的教室的最早结束时间。遍历排序后的课程，如果当前课程的开始时间≥堆顶教室的结束时间，则将该教室分配给当前课程，更新堆顶教室的结束时间。否则，需要一个新的教室，将当前课程的结束时间加入堆中。最终堆的大小就是最少需要的教室数量。"
   ]
  },
  {
   "cell_type": "code",
   "metadata": {
    "vscode": {
     "languageId": "plaintext"
    },
    "ExecuteTime": {
     "end_time": "2025-05-13T06:23:18.313557Z",
     "start_time": "2025-05-13T06:23:18.273650Z"
    }
   },
   "source": [
    "#code:\n",
    "import heapq  \n",
    "def t2m(t):\n",
    "    h, m = map(int, t.split(\":\"))\n",
    "    return h * 60 + m  # 将时间字符串转换为分钟数\n",
    "raw = [\n",
    "    (\"9:00\", \"12:30\"), (\"11:00\", \"14:00\"), (\"13:00\", \"14:30\"),\n",
    "    (\"9:00\", \"10:30\"), (\"13:00\", \"14:30\"), (\"14:00\", \"16:30\"),\n",
    "    (\"15:00\", \"16:30\"), (\"15:00\", \"16:30\"), (\"9:00\", \"10:30\")\n",
    "]\n",
    "# 转换课程时间\n",
    "courses = []\n",
    "for i, (start, end) in enumerate(raw):\n",
    "    courses.append((t2m(start), t2m(end), i))\n",
    "    \n",
    "courses.sort()  # 按课程开始时间排序\n",
    "heap = []  # 用来存储每个教室的结束时间和编号\n",
    "rooms = []  # 记录每个教室安排的课程索引\n",
    "\n",
    "for start, end, idx in courses:\n",
    "    placed = False\n",
    "    # 检查最早结束的教室是否可用\n",
    "    if heap and heap[0][0] <= start:\n",
    "        room_end, room_id = heapq.heappop(heap)  # 弹出最早结束的教室\n",
    "        heapq.heappush(heap, (end, room_id))  # 更新该教室的结束时间\n",
    "        rooms[room_id].append(idx)  # 将课程添加到该教室\n",
    "        placed = True\n",
    "    if not placed:\n",
    "        new_id = len(rooms)  # 创建新教室\n",
    "        rooms.append([idx])  # 添加课程到新教室\n",
    "        heapq.heappush(heap, (end, new_id))  # 将新教室加入堆\n",
    "\n",
    "print(\"最少需要教室数：\", len(rooms))\n",
    "print()\n",
    "\n",
    "for i, room in enumerate(rooms, 1):\n",
    "    print(f\"教室 {i} :\")\n",
    "    for idx in room:\n",
    "        print(f\"  课程 {idx + 1} :\", raw[idx])"
   ],
   "outputs": [
    {
     "name": "stdout",
     "output_type": "stream",
     "text": [
      "最少需要教室数： 3\n",
      "\n",
      "教室 1 :\n",
      "  课程 4 : ('9:00', '10:30')\n",
      "  课程 2 : ('11:00', '14:00')\n",
      "  课程 6 : ('14:00', '16:30')\n",
      "教室 2 :\n",
      "  课程 9 : ('9:00', '10:30')\n",
      "  课程 3 : ('13:00', '14:30')\n",
      "  课程 7 : ('15:00', '16:30')\n",
      "教室 3 :\n",
      "  课程 1 : ('9:00', '12:30')\n",
      "  课程 5 : ('13:00', '14:30')\n",
      "  课程 8 : ('15:00', '16:30')\n"
     ]
    }
   ],
   "execution_count": 5
  },
  {
   "metadata": {},
   "cell_type": "markdown",
   "source": ""
  },
  {
   "cell_type": "markdown",
   "metadata": {},
   "source": [
    "## 问题 4 \n",
    "\n",
    "> 爬楼梯问题：假设爬楼梯时你每次只能爬一阶或者爬两阶，问爬上n阶的楼梯，你一共有多少种方法\n",
    "\n",
    "请设计算法完成该问题，分析算法设计思路，计算时间复杂度，并基于python编程实现"
   ]
  },
  {
   "cell_type": "markdown",
   "metadata": {},
   "source": [
    "idea：\n",
    "\n",
    "答：\n",
    "\n",
    "①算法设计思路：到达第n阶的方法数等于：从n-1阶跨1阶上来；从n-2阶跨2阶上来，因此递推公式为：f(n)=f(n-1)+f(n-2)。\n",
    "\n",
    "②循环会执行n-1次，for循环的时间复杂度为O(n)，程序的时间复杂度由for循环主导，所以时间复杂度为O(n)。"
   ]
  },
  {
   "cell_type": "code",
   "metadata": {
    "ExecuteTime": {
     "end_time": "2025-05-13T06:25:03.394927Z",
     "start_time": "2025-05-13T06:25:03.379921Z"
    }
   },
   "source": [
    "# add your code here\n",
    "def climb(n):\n",
    "    if n == 0 or n == 1:\n",
    "        return 1\n",
    "    dp = [0] * (n + 1)  # dp[i]表示爬到第i阶的方法数\n",
    "    dp[0] = 1  \n",
    "    dp[1] = 1  \n",
    "    for i in range(2, n + 1):\n",
    "        dp[i] = dp[i - 1] + dp[i - 2]  # 当前阶方法数等于前两阶之和\n",
    "    return dp[n]\n",
    "\n",
    "n = 5\n",
    "print(climb(n)) \n",
    "# your algorithm time complexity is: O(n)"
   ],
   "outputs": [
    {
     "name": "stdout",
     "output_type": "stream",
     "text": [
      "8\n"
     ]
    }
   ],
   "execution_count": 6
  },
  {
   "cell_type": "markdown",
   "metadata": {},
   "source": [
    "## 问题 5 \n",
    "\n",
    "> 0-1背包问题：现在有4块大理石，每个大理石对应的重量和价值使用一个元组表示, 即（重量，价值），4块大理石的重量和价值为：[(5,10), (4,40), (6,30), (3, 50)], 假设你有一辆最大承重为9的小推车，请问使用这个小推车装大理石的最大价值为多少\n",
    "\n",
    "请设计一个算法解决该问题，分析算法设计思路，计算时间复杂度，并基于python编程实现"
   ]
  },
  {
   "cell_type": "markdown",
   "metadata": {},
   "source": [
    "idea：\n",
    "\n",
    "答：\n",
    "\n",
    "①算法设计思路：\n",
    "\n",
    "定义一个二维数组 dp，其中 dp[i][j] 表示在前i个大理石中，背包容量为j时能获得的最大价值。对于每个大理石i，有两种选择：不选择大理石i，此时dp[i][j]=dp[i-1][j]。选择大理石i，前提是j>=w[i]，此时dp[i][j] = dp[i-1][j-w[i]]+v[i]。\n",
    "\n",
    "取这两种情况中的最大值作为dp[i][j]的值。最终，dp[n][C]就是在n个大理石和背包容量为C的情况下能获得的最大价值，其中n是大理石的数量，C是背包的最大承重。\n",
    "\n",
    "②时间复杂度分析:\n",
    "\n",
    "需要装满一个大小为(n+1)×(C+1)的二维数组，其中n是大理石的数量，C是背包的最大承重。对于每个元素的计算时间为常数，所以时间复杂度为O(nC)。在本题中，n=4，C=9，时间复杂度为O(4*9)=O(36)。"
   ]
  },
  {
   "cell_type": "code",
   "metadata": {
    "ExecuteTime": {
     "end_time": "2025-05-13T06:25:59.650975Z",
     "start_time": "2025-05-13T06:25:59.635351Z"
    }
   },
   "source": [
    "# add your code here\n",
    "def knapsack(m, c):\n",
    "    n = len(m)\n",
    "    # 创建二维数组dp，dp[i][j]表示前i个物品，背包容量为j时的最大价值\n",
    "    # 这里的行表示物品数量（0到n），列表示背包容量（0到c）\n",
    "    dp = [[0 for _ in range(c + 1)] for _ in range(n + 1)]\n",
    "    \n",
    "    for i in range(1, n + 1):\n",
    "        # 取出当前物品的重量和价值，m[i - 1]表示第i个物品\n",
    "        w, v = m[i - 1]\n",
    "        for j in range(1, c + 1):\n",
    "            # 不放入当前物品时的最大价值\n",
    "            dp[i][j] = dp[i - 1][j]\n",
    "            # 如果当前背包容量j大于等于当前物品重量w\n",
    "            if j >= w:\n",
    "                # 取放入当前物品和不放入当前物品两种情况的价值最大值\n",
    "                dp[i][j] = max(dp[i][j], dp[i - 1][j - w] + v)\n",
    "    return dp[n][c]\n",
    "\n",
    "marbles = [(5, 10), (4, 40), (6, 30), (3, 50)]\n",
    "capacity = 9\n",
    "print(knapsack(marbles, capacity))\n",
    "# your algorithm time complexity is:O(36)"
   ],
   "outputs": [
    {
     "name": "stdout",
     "output_type": "stream",
     "text": [
      "90\n"
     ]
    }
   ],
   "execution_count": 7
  },
  {
   "cell_type": "markdown",
   "metadata": {},
   "source": [
    "## 问题 6 \n",
    "给定 `n` 个非负整数表示每个宽度为 `1` 的柱子的高度图，计算按此排列的柱子，下雨之后能接多少雨水。\n",
    "\n",
    "\n",
    "\n",
    "<div style=\"text-align:center;width:800px;\"> <img alt=\"\" src=\"./fig/hw3q6.png\"> </div>\n",
    "\n",
    "请分析算法设计思路，计算时间复杂度，并基于python编程实现"
   ]
  },
  {
   "cell_type": "markdown",
   "metadata": {},
   "source": [
    "idea：\n",
    "\n",
    "答：\n",
    "\n",
    "①算法设计思路：\n",
    "\n",
    "设置两个指针，一个从数组的开头l开始，一个从数组的末尾r开始。然后设置两个变量 lmax和rmax分别记录从左到右和从右到左遍历过程中遇到的最大高度。\n",
    "\n",
    "当lmax小于rmax时，处理l指针指向的柱子。如果当前柱子的高度小于lmax，那么当前位置能接的雨水量就是lmax减去当前柱子的高度；如果当前柱子高度大于等于lmax，则更新lmax为当前柱子高度。然后l指针右移一位。\n",
    "\n",
    "当lmax大于等于rmax时，处理r指针指向的柱子。如果当前柱子的高度小于rmax，那么当前位置能接的雨水量就是rmax减去当前柱子的高度；如果当前柱子高度大于等于rmax，则更新rmax为当前柱子高度。然后r指针左移一位。\n",
    "\n",
    "重复上述过程，直到l和r指针相遇，此时累加的雨水量就是最终结果。\n",
    "\n",
    "②时间复杂度分析：只需要遍历一次数组，因此时间复杂度为O(n)\n"
   ]
  },
  {
   "cell_type": "code",
   "metadata": {
    "ExecuteTime": {
     "end_time": "2025-05-13T06:26:35.642994Z",
     "start_time": "2025-05-13T06:26:35.629640Z"
    }
   },
   "source": [
    "# add your code here\n",
    "def trap(h):\n",
    "    if not h:\n",
    "        return 0\n",
    "    l = 0\n",
    "    r = len(h) - 1\n",
    "    lmax = h[l]\n",
    "    rmax = h[r]\n",
    "    \n",
    "    total = 0  # 能接住的雨水量\n",
    "    while l < r:\n",
    "        # 如果左指针处的左侧最大高度小于右指针处的右侧最大高度\n",
    "        if lmax < rmax:\n",
    "            l += 1\n",
    "            # 如果当前左指针位置的高度大于之前记录的左侧最大高度，更新左侧最大高度\n",
    "            if h[l] > lmax:\n",
    "                lmax = h[l]\n",
    "            else:\n",
    "                # 否则，计算当前位置能接住的雨水量并累加到total中\n",
    "                total += (lmax - h[l])\n",
    "        else:\n",
    "            r -= 1\n",
    "            # 如果当前右指针位置的高度大于之前记录的右侧最大高度，更新右侧最大高度\n",
    "            if h[r] > rmax:\n",
    "                rmax = h[r]\n",
    "            else:\n",
    "                # 否则，计算当前位置能接住的雨水量并累加到total中\n",
    "                total = total + (rmax - h[r])\n",
    "    return total\n",
    "\n",
    "print(trap([0, 1, 0, 2, 1, 0, 1, 3, 2, 1, 2, 1]))\n",
    "print(trap([4, 2, 0, 3, 2, 5]))\n",
    "# your algorithm time complexity is:O(n)"
   ],
   "outputs": [
    {
     "name": "stdout",
     "output_type": "stream",
     "text": [
      "6\n",
      "9\n"
     ]
    }
   ],
   "execution_count": 8
  },
  {
   "cell_type": "markdown",
   "metadata": {},
   "source": [
    "## 问题 7 \n",
    "\n",
    "**股票投资组合优化**： 假设你是一位投资者，想要在不同的股票中分配你的资金，以最大化你的投资回报。每只股票都有不同的预期收益率和风险。你的目标是选择一些股票，使得总投资金额不超过你的预算，并且预期收益最大化。\n",
    "\n",
    "在这个情况下，你可以将每只股票视为一个“物品”，其重量为投资金额，价值为预期收益率。然后，你可以使用分级背包问题的方法来选择部分股票，以便在预算内获得最大的预期收益。\n",
    "\n",
    "以下是一个简化的例子：\n",
    "\n",
    "假设你有以下三只股票可供选择：\n",
    "\n",
    "1. 股票 A：投资金额 5000 美元，预期收益率 10%\n",
    "2. 股票 B：投资金额 3000 美元，预期收益率 8%\n",
    "3. 股票 C：投资金额 2000 美元，预期收益率 12%\n",
    "\n",
    "请设计算法找到最优投资方案，分析算法设计思路，计算时间复杂度，并基于python编程实现"
   ]
  },
  {
   "cell_type": "markdown",
   "metadata": {},
   "source": [
    "idea：\n",
    "\n",
    "答：\n",
    "\n",
    "①算法设计思路：按照股票的单位投资金额预期收益率（收益率/投资金额）对股票进行降序排序，然后依次选择单位收益率高的股票进行投资，直到达到预算上限。首先计算每只股票的单位投资金额预期收益率。然后按照单位收益率对股票进行降序排序。从单位收益率最高的股票开始，依次尝试投资。如果当前股票可全额投资，则全部投入；若剩余预算不足以全额投资该股票，则投入剩余预算对应的金额，重复步骤，直至预算用完。\n",
    "\n",
    "②时间复杂度分析：计算每只股票的单位投资金额预期收益率的时间复杂度为O(n)。对股票按单位收益率进行排序的时间复杂度为O($nlogn$)。遍历排序后的股票列表进行投资分配的时间复杂度为O(n)。所以整个算法的时间复杂度主要是排序操作占主导，为O($nlogn$)。"
   ]
  },
  {
   "cell_type": "code",
   "metadata": {
    "ExecuteTime": {
     "end_time": "2025-05-13T03:00:21.562327Z",
     "start_time": "2025-05-13T03:00:21.531054Z"
    }
   },
   "source": [
    "# add your code here\n",
    "def opt_port(stks, budg):\n",
    "    # 计算并添加每只股票的收益率/价格比作为第三列\n",
    "    for s in stks:\n",
    "        s.append(s[1] / s[0])\n",
    "    # 按性价比降序排序\n",
    "    stks.sort(key=lambda x: x[2], reverse=True)\n",
    "    tot_ret = 0  # 总预期收益\n",
    "    inv_plan = []  # 投资分配方案\n",
    "    rem_budg = budg  # 剩余预算\n",
    "\n",
    "    for s in stks:\n",
    "        # 投资金额为剩余预算和股票总金额的较小值（允许部分投资）\n",
    "        inv_amt = min(rem_budg, s[0])\n",
    "        inv_plan.append((s[0], inv_amt))\n",
    "        tot_ret += inv_amt * s[2]  # 累加收益 = 投资额 × 性价比\n",
    "        rem_budg -= inv_amt\n",
    "        if rem_budg == 0:  # 预算耗尽时提前结束\n",
    "            break\n",
    "    return tot_ret, inv_plan\n",
    "\n",
    "stks = [\n",
    "    [5000, 0.1],\n",
    "    [3000, 0.08],\n",
    "    [2000, 0.12]\n",
    "]\n",
    "budg = 6000\n",
    "\n",
    "tot_ret, inv_plan = opt_port(stks, budg)\n",
    "print(f\"最大预期收益: {tot_ret * 100:.2f}%\")\n",
    "print(\"投资方案:\")\n",
    "for i, (amt, inv) in enumerate(inv_plan):\n",
    "    print(f\"股票 {chr(65 + i)}: 总金额 {amt} 美元，投资 {inv} 美元\")   \n",
    "# your algorithm time complexity is:O(nlogn)"
   ],
   "outputs": [
    {
     "name": "stdout",
     "output_type": "stream",
     "text": [
      "最大预期收益: 22.00%\n",
      "投资方案:\n",
      "股票 A: 总金额 2000 美元，投资 2000 美元\n",
      "股票 B: 总金额 3000 美元，投资 3000 美元\n",
      "股票 C: 总金额 5000 美元，投资 1000 美元\n"
     ]
    }
   ],
   "execution_count": 4
  },
  {
   "metadata": {},
   "cell_type": "markdown",
   "source": [
    "## 问题 8\n",
    "\n",
    "给你二叉搜索树的根节点 root ，该树中的恰好两个节点的值被错误地交换。请在不改变其结构的情况下，恢复这棵树 。设计算法解决该问题，分析算法设计思路，计算时间复杂度，并基于python编程实现\n",
    "\n",
    "e.g.:\n",
    "---\n",
    "1.\n",
    "\n",
    "<div style=\"text-align:center;width:200px;\"> <img alt=\"\" src=\"./fig/hw3q9-1.jpg\"> </div>\n",
    "输入：root = [1,3,null,null,2]， 输出为：[3,1,null,null,2]， \n",
    "\n",
    "解释：3 不能是 1 的左孩子，因为 3 > 1 。交换 1 和 3 使二叉搜索树有效。\n",
    "\n",
    "2.\n",
    "\n",
    " <div style=\"text-align:center;width:200px;\"> <img alt=\"\" src=\"./fig/hw3q9-1.jpg\"> </div>\n",
    "输入： root=[3,1,4,null,null,2]， 输出为：[2,1,4,null,null,3]\n",
    "\n",
    "解释：2 不能在 3 的右子树中，因为 2 < 3 。交换 2 和 3 使二叉搜索树有效。"
   ]
  },
  {
   "cell_type": "markdown",
   "metadata": {},
   "source": [
    "idea：\n",
    "\n",
    "答：①算法设计思路：\n",
    "\n",
    "因为二叉搜索树的中序遍历结果是一个递增的序列。如果二叉搜索树中有两个节点的值被错误交换，在中序遍历过程中，会出现顺序错误。首先进行中序遍历二叉搜索树，在遍历过程中记录节点的值和节点本身。其次检查中序遍历的结果，找到顺序错误的节点。由于只有两个节点被错误交换，所以最多会出现两次顺序错误。最后找到这两个错误的节点后，交换它们的值，即可恢复这棵树。\n",
    "\n",
    "②时间复杂度分析：因为需要遍历每个节点一次，所以时间复杂度为O(n)。\n"
   ]
  },
  {
   "cell_type": "code",
   "metadata": {
    "ExecuteTime": {
     "end_time": "2025-05-13T06:29:58.926104Z",
     "start_time": "2025-05-13T06:29:58.907832Z"
    }
   },
   "source": [
    "# add your code here\n",
    "class TNode:\n",
    "    def __init__(self, val=0, left=None, right=None):\n",
    "        self.val = val\n",
    "        self.left = left\n",
    "        self.right = right\n",
    "\n",
    "class Sol:\n",
    "    def recovTree(self, root):\n",
    "        # 用于存储第一个错误节点\n",
    "        self.x = None\n",
    "        # 用于存储第二个错误节点\n",
    "        self.y = None\n",
    "        # 用于记录中序遍历的前一个节点\n",
    "        self.prev = None\n",
    "\n",
    "        def dfs(n):\n",
    "            if n is None:\n",
    "                return\n",
    "            dfs(n.left)\n",
    "            # 如果前一个节点存在且其值大于当前节点值\n",
    "            if self.prev and self.prev.val > n.val:\n",
    "                # 如果第一个错误节点还未找到，则将前一个节点设为第一个错误节点\n",
    "                if self.x is None:\n",
    "                    self.x = self.prev\n",
    "                # 将当前节点设为第二个错误节点\n",
    "                self.y = n\n",
    "            # 更新前一个节点为当前节点\n",
    "            self.prev = n\n",
    "            dfs(n.right)\n",
    "\n",
    "        dfs(root)\n",
    "        # 如果两个错误节点都存在，则交换它们的值\n",
    "        if self.x and self.y:\n",
    "            tmp = self.x.val\n",
    "            self.x.val = self.y.val\n",
    "            self.y.val = tmp\n",
    "\n",
    "def buildTree(nodes, i=0):\n",
    "    if i >= len(nodes):\n",
    "        return None\n",
    "    if nodes[i] is None:\n",
    "        return None\n",
    "    node = TNode(nodes[i])\n",
    "    # 递归构建左子树\n",
    "    node.left = buildTree(nodes, 2 * i + 1)\n",
    "    # 递归构建右子树\n",
    "    node.right = buildTree(nodes, 2 * i + 2)\n",
    "    return node\n",
    "\n",
    "def printTree(root):\n",
    "    if root is None:\n",
    "        return []\n",
    "    q = [root]\n",
    "    res = []\n",
    "    while q:\n",
    "        cur = q.pop(0)\n",
    "        if cur:\n",
    "            res.append(cur.val)\n",
    "            q.append(cur.left)\n",
    "            q.append(cur.right)\n",
    "            # 如果当前节点存在，将其左右子节点加入队列\n",
    "        else:\n",
    "            res.append(None)\n",
    "    # 去除结果列表末尾的 None\n",
    "    while res and res[-1] is None:\n",
    "        res.pop()\n",
    "    return res\n",
    "\n",
    "test1 = [1, 3, None, None, 2]\n",
    "tree = buildTree(test1)\n",
    "print(\"修复前:\", printTree(tree))\n",
    "Sol().recovTree(tree)\n",
    "print(\"修复后:\", printTree(tree))\n",
    "\n",
    "test2 = [3, 1, 4, None, None, 2]\n",
    "tree = buildTree(test2)\n",
    "print(\"修复前:\", printTree(tree))\n",
    "Sol().recovTree(tree)\n",
    "print(\"修复后:\", printTree(tree))\n",
    "# your algorithm time complexity is:O(n)"
   ],
   "outputs": [
    {
     "name": "stdout",
     "output_type": "stream",
     "text": [
      "修复前: [1, 3, None, None, 2]\n",
      "修复后: [3, 1, None, None, 2]\n",
      "修复前: [3, 1, 4, None, None, 2]\n",
      "修复后: [2, 1, 4, None, None, 3]\n"
     ]
    }
   ],
   "execution_count": 9
  },
  {
   "cell_type": "markdown",
   "metadata": {},
   "source": [
    "## 问题 9  \n",
    "\n",
    "给你一个二叉树的根节点 root ，树中每个节点都存放有一个 0 到 9 之间的数字。每条从根节点到叶节点的路径都代表一个数字：\n",
    "\n",
    "> 例如，从根节点到叶节点的路径 1 -> 2 -> 3 表示数字 123 。\n",
    "\n",
    "设计一个算法计算从根节点到叶节点生成的所有数字之和 ，分析算法设计思路，计算时间复杂度，并基于python编程实现\n",
    "\n",
    "叶节点:是指没有子节点的节点。\n",
    "\n",
    "e.g.:\n",
    "---\n",
    "1.\n",
    "\n",
    " <div style=\"text-align:center;width:200px;\"> <img alt=\"figure\" src=\"./fig/hw3q10-1.jpg\"> </div>\n",
    "\n",
    " 输入：root = [1,2,3], 输出：25\n",
    "\n",
    "解释：从根到叶子节点路径 1->2 代表数字 12，1->3 代表数字 13，因此和为 12 + 13 = 25 。\n",
    "\n",
    "2.\n",
    "\n",
    " <div style=\"text-align:center;width:200px;\"> <img alt=\"figure\" src=\"./fig/hw3q10-2.jpg\"> </div>\n",
    "\n",
    " 输入：root = [4,9,0,5,1], 输出：1026\n",
    "\n",
    "解释：从根到叶子节点路径 4->9->5 代表数字 495，4->9->1 代表数字 491，4->0 代表数字 40。因此和为 495 + 491 + 40 = 1026 。"
   ]
  },
  {
   "cell_type": "markdown",
   "metadata": {},
   "source": [
    "idea：\n",
    "\n",
    "答：\n",
    "\n",
    "①算法设计思路：\n",
    "\n",
    "从根节点开始，沿着每一条可能的路径向下遍历到叶节点，在遍历过程中记录路径所代表的数字，当到达叶节点时，将该路径代表的数字累加到总和中。首先判断当前节点是否为叶节点。如果是叶节点，将当前路径代表的数字累加到全局结果变量中。如果当前节点不是叶节点，分别对其左子节点和右子节点进行递归调用。在递归调用时，需要更新当前路径所代表的数字。\n",
    "\n",
    "②时间复杂度分析：因为需要遍历每个节点一次，所以时间复杂度为O(n)。"
   ]
  },
  {
   "cell_type": "code",
   "metadata": {
    "ExecuteTime": {
     "end_time": "2025-05-13T06:35:06.607423Z",
     "start_time": "2025-05-13T06:35:06.591800Z"
    }
   },
   "source": [
    "# add your code here\n",
    "class TreeNode:\n",
    "    def __init__(self, val=0, left=None, right=None):\n",
    "        self.val = val\n",
    "        self.left = left\n",
    "        self.right = right\n",
    "\n",
    "class Solution:\n",
    "    def sumNumbers(self, root):\n",
    "        def go(node, s):\n",
    "            if node == None:\n",
    "                return 0\n",
    "            s = s * 10 + node.val\n",
    "            if node.left == None and node.right == None:\n",
    "                return s\n",
    "            left_sum = go(node.left, s)\n",
    "            right_sum = go(node.right, s)\n",
    "            return left_sum + right_sum\n",
    "        return go(root, 0)\n",
    "\n",
    "def build_tree(arr, i=0):\n",
    "    if i >= len(arr):\n",
    "        return None\n",
    "    if arr[i] is None:\n",
    "        return None\n",
    "    n = TreeNode(arr[i])\n",
    "    n.left = build_tree(arr, 2 * i + 1)\n",
    "    n.right = build_tree(arr, 2 * i + 2)\n",
    "    return n\n",
    "\n",
    "tree1 = build_tree([1, 2, 3])\n",
    "print(Solution().sumNumbers(tree1))  \n",
    "\n",
    "tree2 = build_tree([4, 9, 0, 5, 1])\n",
    "print(Solution().sumNumbers(tree2))  \n",
    "\n",
    "# your algorithm time complexity is:O(n)"
   ],
   "outputs": [
    {
     "name": "stdout",
     "output_type": "stream",
     "text": [
      "25\n",
      "1026\n"
     ]
    }
   ],
   "execution_count": 10
  },
  {
   "metadata": {},
   "cell_type": "markdown",
   "source": [
    "## 问题 10  \n",
    "\n",
    "给你一个二叉树的根节点 root ， 检查它是否轴对称。\n",
    "\n",
    "1. 分析算法设计思路，计算时间复杂度，并基于python编程实现\n",
    "2. \\* 设计使用递归和迭代两种方法解决这个问题，计算时间复杂度，并基于python编程实现\n",
    "\n",
    "e.g.:\n",
    "---\n",
    "1.\n",
    "\n",
    " <div style=\"text-align:center;width:200px;\"> <img alt=\"figure\" src=\"./fig/hw3q11-1.png\"> </div>\n",
    "\n",
    " 输入：root = [1,2,2,3,4,4,3]， 输出：true\n",
    "\n",
    "解释：二叉树 [1,2,2,3,4,4,3] 对称。\n",
    "\n",
    "2.\n",
    "\n",
    " <div style=\"text-align:center;width:200px;\"> <img alt=\"figure\" src=\"./fig/hw3q11-2.png\"> </div>\n",
    "\n",
    " 输入：root = [1,2,2,null,3,null,3]， 输出：false"
   ]
  },
  {
   "cell_type": "markdown",
   "metadata": {},
   "source": [
    "idea：\n",
    "\n",
    "答：①算法设计思路：\n",
    "\n",
    "判断二叉树是否轴对称，对于两棵子树，如果它们都为空，那么它们是对称的；如果其中一棵为空，另一棵不为空，那么它们不对称；如果两棵子树都不为空，那么需要比较它们根节点的值是否相等，并且同时递归地比较左子树的左子树和右子树的右子树是否对称，以及左子树的右子树和右子树的左子树是否对称。\n",
    "\n",
    "②时间复杂度分析：在最坏情况下，需要遍历二叉树的所有节点，所以时间复杂度为O(n)。"
   ]
  },
  {
   "cell_type": "code",
   "metadata": {
    "ExecuteTime": {
     "end_time": "2025-05-13T06:43:38.525908Z",
     "start_time": "2025-05-13T06:43:38.494632Z"
    }
   },
   "source": [
    "# add your code here\n",
    "from collections import deque\n",
    "class TreeNode:\n",
    "    def __init__(self, val=0, left=None, right=None):\n",
    "        self.val = val\n",
    "        self.left = left\n",
    "        self.right = right\n",
    "\n",
    "def is_sym(root):\n",
    "    if root is None:\n",
    "        return True\n",
    "\n",
    "    def is_mir(t1, t2):\n",
    "        if t1 is None and t2 is None:\n",
    "            return True\n",
    "        if t1 is None or t2 is None:\n",
    "            return False\n",
    "        return (t1.val == t2.val and\n",
    "                is_mir(t1.left, t2.right) and\n",
    "                is_mir(t1.right, t2.left))\n",
    "\n",
    "    return is_mir(root.left, root.right)\n",
    "\n",
    "# 构建二叉树（从数组构建）\n",
    "def build_tree(values):\n",
    "    if not values:\n",
    "        return None\n",
    "    root = TreeNode(values[0])\n",
    "    queue = deque([root])\n",
    "    i = 1\n",
    "    while queue and i < len(values):\n",
    "        node = queue.popleft()\n",
    "        if i < len(values) and values[i] is not None:\n",
    "            node.left = TreeNode(values[i])\n",
    "            queue.append(node.left)\n",
    "        i += 1\n",
    "        if i < len(values) and values[i] is not None:\n",
    "            node.right = TreeNode(values[i])\n",
    "            queue.append(node.right)\n",
    "        i += 1\n",
    "    return root\n",
    "\n",
    "if __name__ == \"__main__\":\n",
    "    root1 = build_tree([1, 2, 2, 3, 4, 4, 3])\n",
    "    print(is_sym(root1))  \n",
    "    root2 = build_tree([1, 2, 2, None, 3, None, 3])\n",
    "    print(is_sym(root2)) \n",
    "# your algorithm time complexity is:O(n)"
   ],
   "outputs": [
    {
     "name": "stdout",
     "output_type": "stream",
     "text": [
      "True\n",
      "False\n"
     ]
    }
   ],
   "execution_count": 13
  },
  {
   "cell_type": "markdown",
   "metadata": {},
   "source": [
    "## 问题 11  \n",
    "\n",
    "给你一个由 '1'（陆地）和 '0'（水）组成的的二维网格，请你计算网格中岛屿的数量。岛屿总是被水包围，并且每座岛屿只能由水平方向和/或竖直方向上相邻的陆地连接形成。\n",
    "\n",
    "此外，你可以假设该网格的四条边均被水包围。\n",
    "\n",
    "分析算法设计思路，计算时间复杂度，并基于python编程实现\n",
    "\n",
    "e.g.:\n",
    "---\n",
    "1.\n",
    "输入：grid = [\n",
    "\n",
    "    [\"1\",\"1\",\"1\",\"1\",\"0\"],\n",
    "\n",
    "    [\"1\",\"1\",\"0\",\"1\",\"0\"], \n",
    "\n",
    "    [\"1\",\"1\",\"0\",\"0\",\"0\"], \n",
    "\n",
    "    [\"0\",\"0\",\"0\",\"0\",\"0\"]  \n",
    "\n",
    "]\n",
    "\n",
    "输出：1\n",
    "\n",
    "2.\n",
    "输入：grid = [\n",
    "\n",
    "    [\"1\",\"1\",\"0\",\"0\",\"0\"],\n",
    "\n",
    "    [\"1\",\"1\",\"0\",\"0\",\"0\"],\n",
    "\n",
    "    [\"0\",\"0\",\"1\",\"0\",\"0\"],\n",
    "\n",
    "    [\"0\",\"0\",\"0\",\"1\",\"1\"]\n",
    "\n",
    "]\n",
    "\n",
    "输出：3"
   ]
  },
  {
   "cell_type": "markdown",
   "metadata": {},
   "source": [
    "idea:\n",
    "\n",
    "答：\n",
    "\n",
    "①算法设计思路：\n",
    "\n",
    "遍历二维网格中的每一个元素，当遇到值为 '1' 的元素时，说明发现了一个新的岛屿，岛屿数量加 1。从该元素开始进行深度优先搜索，将与该元素相连的水平或垂直方向的所有 '1' 元素都标记为 '0'，表示这些陆地已经被访问过。继续遍历网格，直到遍历完所有元素，最终得到的岛屿数量即为所求。\n",
    "\n",
    "②时间复杂度分析：如果二维网格的行数为 m，列数为 n。在最坏情况下，需要遍历网格中的每一个元素，所以时间复杂度为O(mn)。"
   ]
  },
  {
   "cell_type": "code",
   "metadata": {
    "ExecuteTime": {
     "end_time": "2025-05-13T06:43:50.400281Z",
     "start_time": "2025-05-13T06:43:50.385030Z"
    }
   },
   "source": [
    "# add your code here\n",
    "def island_count(g):\n",
    "    if not g:\n",
    "        return 0\n",
    "    res = 0  # 岛屿计数器\n",
    "    rows = len(g)\n",
    "    cols = len(g[0])\n",
    "\n",
    "    def dfs(x, y):\n",
    "        # 检查坐标越界或非陆地('1')，终止递归\n",
    "        if x < 0 or y < 0 or x >= rows or y >= cols:\n",
    "            return\n",
    "        if g[x][y] != '1':\n",
    "            return\n",
    "        g[x][y] = '0'  # 标记为已访问\n",
    "        # 递归淹没四个方向的相邻陆地\n",
    "        dfs(x + 1, y)\n",
    "        dfs(x - 1, y)\n",
    "        dfs(x, y + 1)\n",
    "        dfs(x, y - 1)\n",
    "\n",
    "    for i in range(rows):\n",
    "        for j in range(cols):\n",
    "            if g[i][j] == '1':  # 发现新岛屿\n",
    "                res += 1\n",
    "                dfs(i, j)  # 递归淹没整个岛屿\n",
    "    return res\n",
    "\n",
    "grid1 = [\n",
    "    [\"1\", \"1\", \"1\", \"1\", \"0\"],\n",
    "    [\"1\", \"1\", \"0\", \"1\", \"0\"],\n",
    "    [\"1\", \"1\", \"0\", \"0\", \"0\"],\n",
    "    [\"0\", \"0\", \"0\", \"0\", \"0\"]\n",
    "]\n",
    "print(island_count(grid1))  \n",
    "\n",
    "grid2 = [\n",
    "    [\"1\", \"1\", \"0\", \"0\", \"0\"],\n",
    "    [\"1\", \"1\", \"0\", \"0\", \"0\"],\n",
    "    [\"0\", \"0\", \"1\", \"0\", \"0\"],\n",
    "    [\"0\", \"0\", \"0\", \"1\", \"1\"]\n",
    "]\n",
    "print(island_count(grid2)) \n",
    "# your algorithm time complexity is:O(mn)"
   ],
   "outputs": [
    {
     "name": "stdout",
     "output_type": "stream",
     "text": [
      "1\n",
      "3\n"
     ]
    }
   ],
   "execution_count": 14
  }
 ],
 "metadata": {
  "language_info": {
   "name": "python"
  },
  "kernelspec": {
   "name": "python3",
   "language": "python",
   "display_name": "Python 3 (ipykernel)"
  }
 },
 "nbformat": 4,
 "nbformat_minor": 2
}
