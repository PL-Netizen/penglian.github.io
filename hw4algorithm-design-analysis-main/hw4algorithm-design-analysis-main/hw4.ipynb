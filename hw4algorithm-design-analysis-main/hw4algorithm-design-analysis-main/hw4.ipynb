{
 "cells": [
  {
   "cell_type": "markdown",
   "metadata": {},
   "source": [
    "## algorithm design and anlysis-2025 spring  homework 4\n",
    "**Deadline**：2025.5.14\n",
    "\n",
    "**name**:\n",
    "\n",
    "\n",
    "note：\n",
    "---\n",
    "1. 带有\\*的题目，申请免上课的同学，必须完成，其他同学选作；\n",
    "2. 请独立完成，如求助了他人或者大模型，请著明，并且不可省略算法分析部分；\n",
    "4. 如若作答有雷同，全部取消成绩；\n",
    "3. 需要书面作答的题目，可以通过引用图片的形式添加，但是注意上传项目时包含所引用的图片的源文件；\n",
    "4. $log_n$ 默认表示$log_2{n}$;"
   ]
  },
  {
   "cell_type": "markdown",
   "metadata": {},
   "source": [
    "## 问题 1 \n",
    "**最小生成树（Minimum Spanning Tree）**\n",
    "\n",
    "设  **G**  为一个带权重的连通无向图，且所有边的权重均不相等。令$e_i$ 为权重第 $i$ 小的边。最小生成树（MST）是否必须包含 $e_1$ ? 同理，是否必须包含 $e_2$ 和 $e_3$ ? 若必须包含，请给出证明；否则，请构造反例。需从基本原理论证，不能依赖割引理(cut lemma) 或 Prim/Kruskal算法的正确性。\n"
   ]
  },
  {
   "cell_type": "markdown",
   "metadata": {},
   "source": [
    "answer:\n",
    "\n",
    "答：\n",
    "\n",
    "①最小生成树（MST）必须包含 $e_1$:证明如下：\n",
    "\n",
    "因为$G$是连通图，$e_1={u,v}$存在。若$T$是一个生成树，但不包含边$e_1$，则$T\\cup{e_1}$会形成一个唯一的环。这个环中，除$e_1$外还有其他边。由于$e_1$是图中最小的边，其权重比环中任何其他边都小。删除环中权重最大的边，就能得到一棵新的生成树$T'$，其权重和小于$T$。这与$T$是最小生成树矛盾。所以最小生成树（MST）必须包含 $e_1$。\n",
    "\n",
    "②最小生成树（MST）不一定必须包含 $e_2$ 和 $e_3$：\n",
    "\n",
    "![img](./fig/pl_hw4q1.png)\n",
    "\n",
    "假设连通图G的顶点为：A, B, C, D边和权重如下：\n",
    "\n",
    "$e_1$=(A,B),w=1\n",
    "\n",
    "$e_2$=(C,D),w=2\n",
    "\n",
    "$e_3$=(B,C),w=3\n",
    "\n",
    "$e_4$=(A,D),w=4\n",
    "\n",
    "$e_5$=(B,D),w=5\n",
    "\n",
    "假如构建最小生成树：\n",
    "\n",
    "首先加入最小边$e_1$=(A,B)，然后可以选$e_3$=(B,C)，然后选$e_4$=(A,D)。最终边集为：{(A,B), (B,C), (A,D)}，总权重：1+3+4=8。虽然$e_2$的权重比$e_3$和$e_4$更小，但由于它连接的是(C,D),并不能在当前方案中比其他边更优。因此，$e_2$不一定在最小生成树中。\n",
    "\n",
    "同理，首先加入最小边$e_1$=(A,B)，然后可以选$e_2$=(C,D)，然后选$e_4$=(A,D)。最终边集为：{(A,B), (C,D), (A,D)}，总权重：1+2+4=7。在这棵树中没有第三小的边但它没有违反连通性或最小性。因此，$e_3$不一定在最小生成树中。"
   ]
  },
  {
   "cell_type": "markdown",
   "metadata": {},
   "source": [
    "## 问题 2 \n",
    "**瓶颈生成树（Bottleneck Spanning Tree）**\n",
    "\n",
    "带有权重的无向图 $G(V,E,w)$ 的瓶颈生成树，表现为：在所有生成树中，最大权重边的权重值最小。即，BST $T$ 最小化瓶颈损失 $c(T)=max_{e \\in T}{w(e)}$。\n",
    "\n",
    "1. 证明 $G$ 的每一个最小生成树（MST）都是瓶颈生成树（BST）\n",
    "2. 设计一个线性时间复杂度的算法：， 对于一个图 $G(V,E,w)$ 和一个整数 $b$，判断图 $ G$ 是否存在一个瓶颈生成树，其最大权重边的权重不超过 $b$，分析算法设计思路，并基于python编程实现。\n",
    "3. 设计一个线性时间复杂度的算法：对于给定的图 $G(V,E,w)$，找到其瓶颈生成树，分析算法设计思路，并基于python编程实现。"
   ]
  },
  {
   "cell_type": "markdown",
   "metadata": {},
   "source": [
    "idea：\n",
    "\n",
    "1.证明MST是BST：\n",
    "\n",
    "假设存在一个最小生成树T不是BST，那么存在另一个生成树T'，其最大边权w'小于T的最大边权w。如果将T'中权值大于w'的边全部移除，剩余的图肯定是连通的，且所有边权均不超过w'。此时，如果将这些边加入T中，会形成环，而环中至少存在一条边权大于w'。移除这条边后，得到的新生成树权值和更小，与T是 MST 矛盾。因此，所有MST必然是BST。\n",
    "\n",
    "2.①算法设计思路：\n",
    "\n",
    "筛选出所有边权小于等于b的边，构成子图G'，然后判断G'是否连通：若连通，则G'存在生成树，其瓶颈小于等于b。若不连通，则不存在这样的生成树。\n",
    "\n",
    "②时间复杂度分析：筛选边的时间为O(E)。BFS/DFS 判断连通性的时间为O(E + V)。总复杂度：O(E + V)。\n",
    "\n",
    "3.①算法设计思路：\n",
    "\n",
    "假设所有边权最大为W，所有权重不重复，先对权重从小到大进行二分搜索瓶颈值b，每次判断否存在最大边权≤b的生成树，即图是否连通，最后一个能连通的b就是最小瓶颈值。然后从图中取出所有≤b的边，用Kruskal构造一棵生成树。\n",
    "\n",
    "②时间复杂度分析：\n",
    "\n",
    "边排序的时间为O(ElogE)。Kruskal算法的时间为O(Eα(V))，其中α是常数。总复杂度：O(ElogE)。"
   ]
  },
  {
   "cell_type": "code",
   "metadata": {
    "ExecuteTime": {
     "end_time": "2025-05-13T13:17:49.461888Z",
     "start_time": "2025-05-13T13:17:49.368159Z"
    }
   },
   "source": [
    "# add your code here\n",
    "#问题2.\n",
    "from collections import deque\n",
    "def f(g, b):  # 判断图g在瓶颈值b下是否仍然连通\n",
    "    ng = {}  # 构建新图，ng只保留边权小于等于b的边\n",
    "\n",
    "    for u in g:\n",
    "        ng[u] = []  # 初始化每个节点的邻接表\n",
    "\n",
    "    for u in g:\n",
    "        for v, w in g[u]:\n",
    "            if w <= b:  # 只保留边权 ≤ b 的边\n",
    "                ng[u].append((v, w))\n",
    "                if v not in ng:\n",
    "                    ng[v] = []  # 确保无向图两端节点都存在\n",
    "                ng[v].append((u, w))\n",
    "    if not ng:\n",
    "        return False  \n",
    "\n",
    "    vis = []  # 已访问的节点列表\n",
    "    s = list(ng.keys())[0]  # 从任意一个节点出发（图非空）\n",
    "    q = deque()\n",
    "    q.append(s)\n",
    "    vis.append(s)\n",
    "\n",
    "    while q:\n",
    "        u = q.popleft()\n",
    "        for v, _ in ng[u]:\n",
    "            if v not in vis:\n",
    "                vis.append(v)\n",
    "                q.append(v)\n",
    "\n",
    "    return len(vis) == len(ng)  # 如果所有节点都被访问，说明图是连通的\n",
    "\n",
    "G = {\n",
    "    0: [(1, 1), (2, 4)],\n",
    "    1: [(0, 1), (2, 2)],\n",
    "    2: [(0, 4), (1, 2), (3, 3)],\n",
    "    3: [(2, 3)]\n",
    "}\n",
    "print(f(G, 3))  \n",
    "print(f(G, 2))  \n",
    "# algorithm of the liear time complexity "
   ],
   "outputs": [
    {
     "name": "stdout",
     "output_type": "stream",
     "text": [
      "True\n",
      "False\n"
     ]
    }
   ],
   "execution_count": 2
  },
  {
   "metadata": {
    "ExecuteTime": {
     "end_time": "2025-05-13T13:18:34.448279Z",
     "start_time": "2025-05-13T13:18:34.422130Z"
    }
   },
   "cell_type": "code",
   "source": [
    "#问题3.\n",
    "class U:  # 并查集 Union-Find\n",
    "    def __init__(self, n):\n",
    "        self.p = [i for i in range(n)]  # 每个节点的父节点初始化为自己\n",
    "        self.r = [1] * n  # 每个集合的秩（大小）\n",
    "\n",
    "    def f(self, x):  # 查找操作，带路径压缩\n",
    "        if self.p[x] != x:\n",
    "            self.p[x] = self.f(self.p[x])\n",
    "        return self.p[x]\n",
    "\n",
    "    def u(self, x, y):  # 合并操作，按秩合并\n",
    "        rx = self.f(x)\n",
    "        ry = self.f(y)\n",
    "        if rx == ry:\n",
    "            return False  # 已在同一集合中，不需合并\n",
    "        if self.r[rx] < self.r[ry]:\n",
    "            rx, ry = ry, rx  # 确保秩大的为新的根\n",
    "        self.p[ry] = rx\n",
    "        self.r[rx] += self.r[ry]  # 更新秩\n",
    "        return True\n",
    "\n",
    "def s(e):  # 冒泡排序边，按边权升序\n",
    "    for i in range(len(e)):\n",
    "        for j in range(i + 1, len(e)):\n",
    "            if e[j][2] < e[i][2]:\n",
    "                e[i], e[j] = e[j], e[i]\n",
    "    return e\n",
    "\n",
    "def b(e, n):  # 构造最小瓶颈生成树（BST）\n",
    "    e = s(e)  # 对边排序\n",
    "    uf = U(n)  # 初始化并查集\n",
    "    r = []  # 存储MST的边集合\n",
    "    m = 0  # 存储瓶颈（MST中最大边权）\n",
    "    for a, b_, w in e:\n",
    "        if uf.f(a) != uf.f(b_):  \n",
    "            uf.u(a, b_)  \n",
    "            r.append((a, b_, w))  \n",
    "            m = w  \n",
    "        if len(r) == n - 1:  # 边数达到n-1时终止\n",
    "            break\n",
    "    return r, m  \n",
    "\n",
    "E = [(0, 1, 2), (0, 2, 3), (1, 2, 1), (1, 3, 4)]\n",
    "N = 4  \n",
    "R, M = b(E, N)  \n",
    "print(\"BST 边:\", R)  \n",
    "print(\"瓶颈:\", M)    "
   ],
   "outputs": [
    {
     "name": "stdout",
     "output_type": "stream",
     "text": [
      "BST 边: [(1, 2, 1), (0, 1, 2), (1, 3, 4)]\n",
      "瓶颈: 4\n"
     ]
    }
   ],
   "execution_count": 3
  },
  {
   "metadata": {},
   "cell_type": "code",
   "outputs": [],
   "execution_count": null,
   "source": ""
  },
  {
   "cell_type": "markdown",
   "metadata": {},
   "source": [
    "## 问题 3\n",
    "\n",
    "**道路网（Road Network）**\n",
    "\n",
    "假设有一个以图 $ G(V, E, l) $ 表示的道路网络，连接了一组城市 $ V $。我们假设该网络是有向的，并且每条道路 $(u, v) \\in E$ 都有一个非负的长度 $ l(u, v) $。一条新的道路即将被建造，因此有一个列表 $ E' $ 包含它可以连接的城市对。每对 $(u, v) \\in E'$ 都有一个对应的长度 $ l'(u, v) $。我们希望选择一对城市，使得两个城市 $ s, t \\in V $ 之间的距离减少最大。请为此问题编写一个高效的算法，并详细解释算法的正确性和复杂度。\n"
   ]
  },
  {
   "metadata": {},
   "cell_type": "markdown",
   "source": [
    "idea：\n",
    "\n",
    "①算法设计思路：\n",
    "首先需要计算从起点s到所有节点的最短路径，记为$d_s$。然后计算从所有节点到终点t的最短路径，记为$d_t$。对于每条候选道路(u, v)∈E'，计算它可能的距离减少量：$d_s$[u]+l'(u, v)+$d_t$[v]-$d_s$[t]。最后选择减少量最大的候选道路。\n",
    "\n",
    "②正确性解释：\n",
    "所有城市对都计算了最短路径；对于每条新道路，也计算了所有(s,t)的距离减少量；最后选择的是全局最大减少量的新道路和城市对，所以是正确的。\n",
    "\n",
    "③时间复杂度分析：\n",
    "两次Dijkstra算法，每次时间复杂度为O((V+E)logV)。评估阶段：遍历所有候选边E'，时间复杂度为O(E')。总复杂度：O((V+E)logV+E')。"
   ]
  },
  {
   "metadata": {
    "ExecuteTime": {
     "end_time": "2025-05-12T03:06:09.820360Z",
     "start_time": "2025-05-12T03:06:09.808811Z"
    }
   },
   "cell_type": "code",
   "source": [
    "import heapq\n",
    "# 使用 Dijkstra 算法计算从起点到各点的最短距离\n",
    "def dijkstra(gr, st, num):\n",
    "    dis = [float('inf')] * num\n",
    "    dis[st] = 0\n",
    "    que = [(0, st)]\n",
    "    while que:\n",
    "        cur_dis, node = heapq.heappop(que)\n",
    "        if cur_dis > dis[node]:\n",
    "            continue\n",
    "        for nei, w in gr[node]:\n",
    "            if dis[nei] > dis[node] + w:\n",
    "                dis[nei] = dis[node] + w\n",
    "                heapq.heappush(que, (dis[nei], nei))\n",
    "    return dis\n",
    "\n",
    "def main():\n",
    "    # 图中节点数为 4\n",
    "    node_num = 4\n",
    "    # 原始边的信息，格式为 (起点, 终点, 距离)\n",
    "    edges = [\n",
    "        (0, 1, 1),\n",
    "        (1, 2, 2),\n",
    "        (2, 3, 3),\n",
    "        (0, 3, 10)\n",
    "    ]\n",
    "    # 起始节点\n",
    "    start_node = 0\n",
    "    # 目标节点\n",
    "    end_node = 3\n",
    "    # 新增边的信息\n",
    "    new_edges = [\n",
    "        (1, 3, 1),\n",
    "        (2, 0, 5)\n",
    "    ]\n",
    "    # 构建原始图的邻接表\n",
    "    graph = [[] for _ in range(node_num)]\n",
    "    for u, v, l in edges:\n",
    "        graph[u].append((v, l))\n",
    "\n",
    "    # 计算从起始节点到各点的最短距离\n",
    "    dist_from_start = dijkstra(graph, start_node, node_num)\n",
    "    # 构建反向图的邻接表\n",
    "    rev_graph = [[] for _ in range(node_num)]\n",
    "    for u, v, l in edges:\n",
    "        rev_graph[v].append((u, l))\n",
    "\n",
    "    # 计算从目标节点到各点的最短距离（在反向图上）\n",
    "    dist_to_end = dijkstra(rev_graph, end_node, node_num)\n",
    "\n",
    "    # 原始从起始到目标的最短路径长度\n",
    "    original_dist = dist_from_start[end_node]\n",
    "\n",
    "    # 记录最大距离减少量\n",
    "    max_red = 0\n",
    "    # 记录最优的新增边\n",
    "    best_edge = None\n",
    "\n",
    "    # 遍历新增边，判断是否能使路径变短\n",
    "    for u, v, new_len in new_edges:\n",
    "        if dist_from_start[u] == float('inf') or dist_to_end[v] == float('inf'):\n",
    "            continue\n",
    "        total_dist = dist_from_start[u] + new_len + dist_to_end[v]\n",
    "        red = original_dist - total_dist\n",
    "        if red > max_red:\n",
    "            max_red = red\n",
    "            best_edge = (u, v, new_len)\n",
    "\n",
    "    if max_red > 0:\n",
    "        print(\"可以新修一条边：\", best_edge)\n",
    "        print(\"能减少的距离：\", max_red)\n",
    "        print(\"新路径长度是：\", original_dist - max_red)\n",
    "    else:\n",
    "        print(\"没有任何新边可以让路径更短\")\n",
    "\n",
    "if __name__ == \"__main__\":\n",
    "    main()"
   ],
   "outputs": [
    {
     "name": "stdout",
     "output_type": "stream",
     "text": [
      "可以新修一条边： (1, 3, 1)\n",
      "能减少的距离： 4\n",
      "新路径长度是： 2\n"
     ]
    }
   ],
   "execution_count": 10
  },
  {
   "cell_type": "markdown",
   "metadata": {},
   "source": [
    "## 问题 4\n",
    "\n",
    "**逃离问题**\n",
    "\n",
    "一个 $ n \\times n $ 的网格是一个无向图，由 $ n $ 行和 $ n $ 列的顶点组成，如下图所示。我们用 $(i,j)$ 表示第 $ i $ 行和第 $ j $ 列的顶点。除了边界顶点，网格中的所有顶点都有四个邻居，即满足 $ i = 1, i = n, j = 1 $ 或 $ j = n $ 的点 $(i,j)$。\n",
    "\n",
    "给定网格中的 $ m \\leq n^2 $ 个起点 $(x_1, y_1), (x_2, y_2), \\cdots , (x_m, y_m)$，逃离问题是确定是否存在 $ m $ 条顶点不相交的路径（即路径之间不相交），从这些起点到边界上的任意 $ m $ 个不同点。例如，图1中的网格存在逃离。\n",
    "\n",
    "(1) 该问题可以看作是一个最大流问题。考虑一个流网络，其中顶点和边都有容量。也就是说，进入任何给定顶点的总正流量受到容量限制。证明在具有边和顶点容量的网络中确定最大流可以简化为在具有可比大小的普通流网络上的最大流问题。更准确地说，你需要将一个具有顶点和边容量的网络 $ G = (V,E) $ 转换为另一个仅具有边容量的网络 $ G' = (V', E') $，使得两个网络上的最大流相同，并且你构建的新网络具有 $ V' = O(V) $ 个顶点和 $ E' = O(E) $ 条边。你可以假设网络是连通的。\n",
    "\n",
    "(2) 描述一个解决逃离问题的高效算法，并分析其运行时间。\n",
    "\n",
    "\n",
    "<div align=\"center\"> <img alt=\"图片\" src=\"./fig/escepe-p.png\"> </div>\n",
    "<center> 图2. 逃脱问题网格，起始顶点为黑色，其他网格顶点为白色</center>"
   ]
  },
  {
   "metadata": {},
   "cell_type": "markdown",
   "source": [
    "idea：\n",
    "\n",
    "1.①转换方法：\n",
    "\n",
    "对于具有顶点和边容量的网络G=(V, E)，将其转换为仅具有边容量的网络G'=(V',E')：对于G中的每个顶点v∈V，在G'中创建两个新顶点$v_i$和$v_o$，以及一条边($v_i$,$v_o$)，其容量为顶点v在G中的容量。对于G中的每条边(u,v)∈E，在G'中创建一条边($v_o$,$v_i$)，其容量为边(u,v)在G中的容量。\n",
    "\n",
    "②正确性证明：\n",
    "\n",
    "原图中流入u的流量必须通过$u_i$→$u_o$的边，其容量为c(u)，因此限制了流入u的总流量。原边(u,v)的容量直接转移到新边($v_i$,$v_o$),新网络中的任何流都对应原网络中的一个满足顶点和边容量限制的流，反之亦然。\n",
    "\n",
    "2.①算法设计分析：\n",
    "\n",
    "构建流网络：每个网格点(i,j)拆分为$(i,j)_i$和$(i,j)_o$。内部边为$(i,j)_i$→$(i,j)_o$，容量为1。网格边：对于相邻的(i,j)和(i′,j′)，添加$(i,j)_o$→$(i′,j′)_i$，容量为1。源点s,连接到所有起点$(x_k,y_k)_i$，容量为1。汇点t,所有边界点的$(i,j)_o$连接到t，容量为1。\n",
    "\n",
    "计算最大流：使用Dinic算法计算从s到t的最大流。如果最大流等于m，则存在m条顶点不相交的路径。\n",
    "\n",
    "②时间复杂度分析：\n",
    "\n",
    "每个网格点拆分为两个的时间复杂度为O($n^2$)，每个网格点有O(1)条边的时间复杂度为O($n^2$)，Dinic 算法时间复杂度：O($∣V∣^2$∣E∣)=O($(n^2)^2$*$n^2$)=O($n^6$)."
   ]
  }
 ],
 "metadata": {
  "language_info": {
   "name": "python"
  },
  "kernelspec": {
   "name": "python3",
   "language": "python",
   "display_name": "Python 3 (ipykernel)"
  }
 },
 "nbformat": 4,
 "nbformat_minor": 2
}
